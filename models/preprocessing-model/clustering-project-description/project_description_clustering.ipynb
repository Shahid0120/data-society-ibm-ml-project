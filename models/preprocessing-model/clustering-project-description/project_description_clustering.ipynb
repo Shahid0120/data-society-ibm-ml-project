{
 "cells": [
  {
   "cell_type": "markdown",
   "id": "0709570a-d776-4d39-9696-27f61f32125b",
   "metadata": {},
   "source": [
    "# Project_description Sipliciation \n",
    "The aim of this notebook is to simplify projection_description features currently imputs rnages from 'FY16 RESO A IP SURVEILLANCE CAMERA INSTALLATION' to 'NEW SCHOOL'. So the main aim is to cluster each of the inputs to then simplfy the porject decscription title."
   ]
  },
  {
   "cell_type": "code",
   "execution_count": null,
   "id": "3a4b89ac-d574-4ddd-8909-fdb5efff45e3",
   "metadata": {},
   "outputs": [],
   "source": []
  }
 ],
 "metadata": {
  "kernelspec": {
   "display_name": "Python 3 (ipykernel)",
   "language": "python",
   "name": "python3"
  },
  "language_info": {
   "codemirror_mode": {
    "name": "ipython",
    "version": 3
   },
   "file_extension": ".py",
   "mimetype": "text/x-python",
   "name": "python",
   "nbconvert_exporter": "python",
   "pygments_lexer": "ipython3",
   "version": "3.11.5"
  }
 },
 "nbformat": 4,
 "nbformat_minor": 5
}
