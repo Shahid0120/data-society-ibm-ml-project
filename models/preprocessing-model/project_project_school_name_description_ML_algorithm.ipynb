{
 "cells": [
  {
   "cell_type": "markdown",
   "id": "960b7783-b877-4325-a0b8-af959fac2a94",
   "metadata": {},
   "source": [
    "# Preprocessing Model\n",
    "The main goals of this model is to classify project_description and project_school_name into its own coloumns"
   ]
  },
  {
   "cell_type": "markdown",
   "id": "19b9422c-1a51-43fe-9a16-63d63b6d5d3a",
   "metadata": {},
   "source": []
  }
 ],
 "metadata": {
  "kernelspec": {
   "display_name": "Python 3 (ipykernel)",
   "language": "python",
   "name": "python3"
  },
  "language_info": {
   "codemirror_mode": {
    "name": "ipython",
    "version": 3
   },
   "file_extension": ".py",
   "mimetype": "text/x-python",
   "name": "python",
   "nbconvert_exporter": "python",
   "pygments_lexer": "ipython3",
   "version": "3.11.5"
  }
 },
 "nbformat": 4,
 "nbformat_minor": 5
}
