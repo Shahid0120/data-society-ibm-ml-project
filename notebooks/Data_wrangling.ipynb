{
 "cells": [
  {
   "cell_type": "markdown",
   "id": "b4746067-c1d7-40e9-83bd-bd3be3d5aa04",
   "metadata": {},
   "source": [
    "# Data Wrangling"
   ]
  },
  {
   "cell_type": "code",
   "execution_count": 5,
   "id": "d4634fa3-e161-4cf8-995a-4ff2c0bfcdb4",
   "metadata": {
    "scrolled": true
   },
   "outputs": [
    {
     "data": {
      "text/html": [
       "<div>\n",
       "<style scoped>\n",
       "    .dataframe tbody tr th:only-of-type {\n",
       "        vertical-align: middle;\n",
       "    }\n",
       "\n",
       "    .dataframe tbody tr th {\n",
       "        vertical-align: top;\n",
       "    }\n",
       "\n",
       "    .dataframe thead th {\n",
       "        text-align: right;\n",
       "    }\n",
       "</style>\n",
       "<table border=\"1\" class=\"dataframe\">\n",
       "  <thead>\n",
       "    <tr style=\"text-align: right;\">\n",
       "      <th></th>\n",
       "      <th>project_geographic_district</th>\n",
       "      <th>project_building_identifier</th>\n",
       "      <th>project_school_name</th>\n",
       "      <th>project_type</th>\n",
       "      <th>project_description</th>\n",
       "      <th>project_phase_name</th>\n",
       "      <th>project_status_name</th>\n",
       "      <th>project_phase_actual_start_date</th>\n",
       "      <th>project_phase_planned_end_date</th>\n",
       "      <th>project_phase_actual_end_date</th>\n",
       "      <th>project_budget_amount</th>\n",
       "      <th>final_estimate_of_actual_costs_through_end_of_phase_amount</th>\n",
       "      <th>total_phase_actual_spending_amount</th>\n",
       "      <th>dsf_number_s</th>\n",
       "    </tr>\n",
       "  </thead>\n",
       "  <tbody>\n",
       "    <tr>\n",
       "      <th>0</th>\n",
       "      <td>10</td>\n",
       "      <td>X254</td>\n",
       "      <td>I.S. 254 - BRONX</td>\n",
       "      <td>SCA CIP</td>\n",
       "      <td>FACADE/ROOFS</td>\n",
       "      <td>Construction</td>\n",
       "      <td>In-Progress</td>\n",
       "      <td>07/07/2016</td>\n",
       "      <td>03/28/2018</td>\n",
       "      <td>NaN</td>\n",
       "      <td>4050000</td>\n",
       "      <td>4229193.0</td>\n",
       "      <td>3791127.0</td>\n",
       "      <td>DSF: 0000821031, 0000822210</td>\n",
       "    </tr>\n",
       "    <tr>\n",
       "      <th>1</th>\n",
       "      <td>10</td>\n",
       "      <td>X254</td>\n",
       "      <td>I.S. 254 - BRONX</td>\n",
       "      <td>SCA CIP</td>\n",
       "      <td>FACADE/ROOFS</td>\n",
       "      <td>CM, F&amp;E</td>\n",
       "      <td>In-Progress</td>\n",
       "      <td>07/07/2016</td>\n",
       "      <td>03/28/2018</td>\n",
       "      <td>NaN</td>\n",
       "      <td>252000</td>\n",
       "      <td>489326.0</td>\n",
       "      <td>485620.0</td>\n",
       "      <td>DSF: 0000821031, 0000822210</td>\n",
       "    </tr>\n",
       "    <tr>\n",
       "      <th>2</th>\n",
       "      <td>10</td>\n",
       "      <td>X254</td>\n",
       "      <td>I.S. 254 - BRONX</td>\n",
       "      <td>SCA CIP RESOA</td>\n",
       "      <td>FY16 RESO A IP SURVEILLANCE CAMERA INSTALLATION</td>\n",
       "      <td>Scope</td>\n",
       "      <td>Complete</td>\n",
       "      <td>07/27/2017</td>\n",
       "      <td>11/27/2017</td>\n",
       "      <td>08/03/2017</td>\n",
       "      <td>0</td>\n",
       "      <td>1792.0</td>\n",
       "      <td>1792.0</td>\n",
       "      <td>DSF: 0000823560</td>\n",
       "    </tr>\n",
       "    <tr>\n",
       "      <th>3</th>\n",
       "      <td>10</td>\n",
       "      <td>X254</td>\n",
       "      <td>I.S. 254 - BRONX</td>\n",
       "      <td>SCA CIP RESOA</td>\n",
       "      <td>FY16 RESO A IP SURVEILLANCE CAMERA INSTALLATION</td>\n",
       "      <td>Design</td>\n",
       "      <td>In-Progress</td>\n",
       "      <td>08/04/2017</td>\n",
       "      <td>02/05/2018</td>\n",
       "      <td>NaN</td>\n",
       "      <td>19110</td>\n",
       "      <td>17318.0</td>\n",
       "      <td>7169.0</td>\n",
       "      <td>DSF: 0000823560</td>\n",
       "    </tr>\n",
       "    <tr>\n",
       "      <th>4</th>\n",
       "      <td>10</td>\n",
       "      <td>X254</td>\n",
       "      <td>I.S. 254 - BRONX</td>\n",
       "      <td>SCA CIP RESOA</td>\n",
       "      <td>FY16 RESO A IP SURVEILLANCE CAMERA INSTALLATION</td>\n",
       "      <td>Construction</td>\n",
       "      <td>PNS</td>\n",
       "      <td>PNS</td>\n",
       "      <td>PNS</td>\n",
       "      <td>PNS</td>\n",
       "      <td>280280</td>\n",
       "      <td>280280.0</td>\n",
       "      <td>951.0</td>\n",
       "      <td>DSF: 0000823560</td>\n",
       "    </tr>\n",
       "  </tbody>\n",
       "</table>\n",
       "</div>"
      ],
      "text/plain": [
       "   project_geographic_district project_building_identifier  \\\n",
       "0                           10                        X254   \n",
       "1                           10                        X254   \n",
       "2                           10                        X254   \n",
       "3                           10                        X254   \n",
       "4                           10                        X254   \n",
       "\n",
       "  project_school_name   project_type  \\\n",
       "0    I.S. 254 - BRONX        SCA CIP   \n",
       "1    I.S. 254 - BRONX        SCA CIP   \n",
       "2    I.S. 254 - BRONX  SCA CIP RESOA   \n",
       "3    I.S. 254 - BRONX  SCA CIP RESOA   \n",
       "4    I.S. 254 - BRONX  SCA CIP RESOA   \n",
       "\n",
       "                               project_description project_phase_name  \\\n",
       "0                                     FACADE/ROOFS       Construction   \n",
       "1                                     FACADE/ROOFS            CM, F&E   \n",
       "2  FY16 RESO A IP SURVEILLANCE CAMERA INSTALLATION              Scope   \n",
       "3  FY16 RESO A IP SURVEILLANCE CAMERA INSTALLATION             Design   \n",
       "4  FY16 RESO A IP SURVEILLANCE CAMERA INSTALLATION       Construction   \n",
       "\n",
       "  project_status_name project_phase_actual_start_date  \\\n",
       "0         In-Progress                      07/07/2016   \n",
       "1         In-Progress                      07/07/2016   \n",
       "2            Complete                      07/27/2017   \n",
       "3         In-Progress                      08/04/2017   \n",
       "4                 PNS                             PNS   \n",
       "\n",
       "  project_phase_planned_end_date project_phase_actual_end_date  \\\n",
       "0                     03/28/2018                           NaN   \n",
       "1                     03/28/2018                           NaN   \n",
       "2                     11/27/2017                    08/03/2017   \n",
       "3                     02/05/2018                           NaN   \n",
       "4                            PNS                           PNS   \n",
       "\n",
       "  project_budget_amount  \\\n",
       "0               4050000   \n",
       "1                252000   \n",
       "2                     0   \n",
       "3                 19110   \n",
       "4                280280   \n",
       "\n",
       "   final_estimate_of_actual_costs_through_end_of_phase_amount  \\\n",
       "0                                          4229193.0            \n",
       "1                                           489326.0            \n",
       "2                                             1792.0            \n",
       "3                                            17318.0            \n",
       "4                                           280280.0            \n",
       "\n",
       "   total_phase_actual_spending_amount                 dsf_number_s  \n",
       "0                           3791127.0  DSF: 0000821031, 0000822210  \n",
       "1                            485620.0  DSF: 0000821031, 0000822210  \n",
       "2                              1792.0              DSF: 0000823560  \n",
       "3                              7169.0              DSF: 0000823560  \n",
       "4                               951.0              DSF: 0000823560  "
      ]
     },
     "execution_count": 5,
     "metadata": {},
     "output_type": "execute_result"
    }
   ],
   "source": [
    "import pandas as pd\n",
    "\n",
    "raw_data = pd.read_csv(\"https://datasocibmproject.s3.ap-southeast-2.amazonaws.com/structured_data/capital_project_schedules_and_budgets_1.csv?fbclid=IwZXh0bgNhZW0CMTAAAR0UhsZhhZWKagBElGMjNYy0mH55DPDYoBLvLClF8xJLHXg2T3CZgsaR33A_aem_ASHYn0crIlyJn_TfUjWApWeBIkMt9g6lI-m72DW9Oy3dFPZLR7EckE8fU9BjIXkXhjZbs-X5ya3NIpbTXcZwuFSI\")\n",
    "raw_data.head()"
   ]
  },
  {
   "cell_type": "code",
   "execution_count": 6,
   "id": "f2a21a4f-14da-49e6-94e7-53ab1e186673",
   "metadata": {},
   "outputs": [
    {
     "data": {
      "text/plain": [
       "Index(['project_geographic_district', 'project_building_identifier',\n",
       "       'project_school_name', 'project_type', 'project_description',\n",
       "       'project_phase_name', 'project_status_name',\n",
       "       'project_phase_actual_start_date', 'project_phase_planned_end_date',\n",
       "       'project_phase_actual_end_date', 'project_budget_amount',\n",
       "       'final_estimate_of_actual_costs_through_end_of_phase_amount',\n",
       "       'total_phase_actual_spending_amount', 'dsf_number_s'],\n",
       "      dtype='object')"
      ]
     },
     "execution_count": 6,
     "metadata": {},
     "output_type": "execute_result"
    }
   ],
   "source": [
    "raw_data.columns"
   ]
  },
  {
   "cell_type": "code",
   "execution_count": null,
   "id": "59492b7e",
   "metadata": {},
   "outputs": [],
   "source": [
    "raw_data['project_geographic_district']"
   ]
  },
  {
   "cell_type": "markdown",
   "id": "3a2f0c2c-aa07-4934-8a02-8f14d4582ca4",
   "metadata": {},
   "source": [
    "## Finding All Missing Values "
   ]
  },
  {
   "cell_type": "code",
   "execution_count": 7,
   "id": "b5f3e98e-c5b9-4fd8-9ea6-e12665fdb66e",
   "metadata": {},
   "outputs": [
    {
     "data": {
      "text/plain": [
       "[array([False]), array([False])]"
      ]
     },
     "execution_count": 7,
     "metadata": {},
     "output_type": "execute_result"
    }
   ],
   "source": [
    "project_geographic_district = pd.Series(raw_data[\"project_geographic_district\"])\n",
    "[project_geographic_district.isna().unique(),\n",
    "project_geographic_district.isnull().unique()]\n"
   ]
  },
  {
   "cell_type": "code",
   "execution_count": 8,
   "id": "bf6f5d38-4bd9-4a6f-ac91-377fe685adc4",
   "metadata": {},
   "outputs": [
    {
     "name": "stdout",
     "output_type": "stream",
     "text": [
      "isnan_df:\n",
      "  project_geographic_district project_building_identifier project_school_name  \\\n",
      "0                     [False]                     [False]             [False]   \n",
      "\n",
      "  project_type project_description project_phase_name project_status_name  \\\n",
      "0      [False]             [False]      [False, True]             [False]   \n",
      "\n",
      "  project_phase_actual_start_date project_phase_planned_end_date  \\\n",
      "0                         [False]                        [False]   \n",
      "\n",
      "  project_phase_actual_end_date project_budget_amount  \\\n",
      "0                 [True, False]               [False]   \n",
      "\n",
      "  final_estimate_of_actual_costs_through_end_of_phase_amount  \\\n",
      "0                                      [False, True]           \n",
      "\n",
      "  total_phase_actual_spending_amount dsf_number_s  \n",
      "0                            [False]      [False]  \n",
      "\n",
      "isnull_df:\n",
      "  project_geographic_district project_building_identifier project_school_name  \\\n",
      "0                     [False]                     [False]             [False]   \n",
      "\n",
      "  project_type project_description project_phase_name project_status_name  \\\n",
      "0      [False]             [False]      [False, True]             [False]   \n",
      "\n",
      "  project_phase_actual_start_date project_phase_planned_end_date  \\\n",
      "0                         [False]                        [False]   \n",
      "\n",
      "  project_phase_actual_end_date project_budget_amount  \\\n",
      "0                 [True, False]               [False]   \n",
      "\n",
      "  final_estimate_of_actual_costs_through_end_of_phase_amount  \\\n",
      "0                                      [False, True]           \n",
      "\n",
      "  total_phase_actual_spending_amount dsf_number_s  \n",
      "0                            [False]      [False]  \n"
     ]
    }
   ],
   "source": [
    "isnan_df = pd.DataFrame(columns = raw_data.columns)\n",
    "isnull_df = pd.DataFrame(columns = raw_data.columns)\n",
    "\n",
    "isnan_df.to_dict()\n",
    "isnull_df.to_dict()\n",
    "\n",
    "\n",
    "for raw_data_column in raw_data.columns:\n",
    "    isnan_df[raw_data_column] = [raw_data[raw_data_column].isna().unique()]\n",
    "    isnull_df[raw_data_column] = [raw_data[raw_data_column].isnull().unique()]\n",
    "    \n",
    "print(\"isnan_df:\")\n",
    "print(isnan_df)\n",
    "\n",
    "print(\"\\nisnull_df:\")\n",
    "print(isnull_df)"
   ]
  },
  {
   "cell_type": "markdown",
   "id": "8dbf142c-9682-4eb0-b06d-4b957cd4a574",
   "metadata": {},
   "source": [
    "# Identifying Outliers"
   ]
  },
  {
   "cell_type": "markdown",
   "id": "910eb10b-009f-405e-bd08-084f629995d7",
   "metadata": {},
   "source": [
    "Project geographpic location "
   ]
  },
  {
   "cell_type": "code",
   "execution_count": 9,
   "id": "6bb8f22a-b1e4-4abe-b4ae-2f4e8310e962",
   "metadata": {},
   "outputs": [],
   "source": [
    "for index in raw_data[\"project_geographic_district\"]:\n",
    "    if not isinstance(index, int) :\n",
    "        print(index)\n",
    "    \n"
   ]
  },
  {
   "cell_type": "markdown",
   "id": "d1a0882c-1b07-4565-9c02-92b78eeb7635",
   "metadata": {},
   "source": [
    "project building identifier"
   ]
  },
  {
   "cell_type": "code",
   "execution_count": 10,
   "id": "b8491401-93a3-4d97-a43a-fd3655aebef1",
   "metadata": {},
   "outputs": [
    {
     "name": "stdout",
     "output_type": "stream",
     "text": [
      "Index: 1479 Value: XAAF\n",
      "Index: 1480 Value: XADJ\n",
      "Index: 1481 Value: XADO\n",
      "Index: 1482 Value: XADY\n",
      "Index: 1483 Value: XAEE\n",
      "Index: 2606 Value: XABI\n",
      "Index: 2607 Value: XAEO\n",
      "Index: 2608 Value: XAFB\n",
      "Index: 2609 Value: XAUJ\n",
      "Index: 5504 Value: QALP\n",
      "Index: 5505 Value: QAPM\n",
      "Index: 6089 Value: QMAD\n",
      "Index: 6218 Value: KBZT\n",
      "Index: 6219 Value: KBZT\n",
      "Index: 6220 Value: KBZT\n",
      "Index: 6221 Value: KBZT\n",
      "Index: 6909 Value: KAKB\n",
      "Index: 6910 Value: KAKB\n",
      "Index: 6911 Value: KAKB\n",
      "Index: 6912 Value: KAKB\n"
     ]
    }
   ],
   "source": [
    "for idx, index in enumerate(raw_data[\"project_building_identifier\"]):\n",
    "    # the index is M1234\n",
    "    if len(index) == 4 and index[0].isalpha():\n",
    "            if not index[1:].isdigit():\n",
    "                print(\"Index:\", idx, \"Value:\", index)\n"
   ]
  },
  {
   "cell_type": "markdown",
   "id": "8a4649ce-8439-4ec4-97a5-13423ed46097",
   "metadata": {},
   "source": [
    "start/ends dates"
   ]
  },
  {
   "cell_type": "code",
   "execution_count": null,
   "id": "346f6b35-3e2f-467d-adf3-22d321bcc33f",
   "metadata": {},
   "outputs": [],
   "source": [
    "# takes in a pd.Series like an array/tuple \n",
    "class CheckDates:\n",
    "    def __init__(self, array):\n",
    "         self.string = array\n",
    "        \n",
    "    def LengthstringCheck(array):\n",
    "        # length of array\n",
    "        for index in array \n",
    "        if not string != 'PNS' and string.len(10) != 1:\n",
    "            raise ValueError(\"It doesnt have required length\")\n",
    "            \n",
    "    def StartEndChronoical():\n",
    "        # is the start before the end date\n",
    "    \n",
    "    \n",
    "    def ValidMonth(#pd.Series):\n",
    "        # Valid Month\n",
    "    \n",
    "    \n",
    "    def ValidDay():\n",
    "        # Valid Day\n",
    "    \n",
    "    \n",
    "    def ValidYear():\n",
    "        # Valid Year\n",
    "\n"
   ]
  },
  {
   "cell_type": "code",
   "execution_count": 19,
   "id": "89cf9e90-42ff-47a8-8d32-8b1bb091f788",
   "metadata": {},
   "outputs": [
    {
     "name": "stdout",
     "output_type": "stream",
     "text": [
      "<class 'pandas.core.series.Series'>\n",
      "RangeIndex: 8185 entries, 0 to 8184\n",
      "Series name: project_geographic_district\n",
      "Non-Null Count  Dtype\n",
      "--------------  -----\n",
      "8185 non-null   int64\n",
      "dtypes: int64(1)\n",
      "memory usage: 64.1 KB\n"
     ]
    }
   ],
   "source": [
    "raw_data[\"project_geographic_district\"].info()"
   ]
  },
  {
   "cell_type": "code",
   "execution_count": 25,
   "id": "2be6be33-ff39-4a47-97f9-b0f12b271cb6",
   "metadata": {},
   "outputs": [
    {
     "data": {
      "text/plain": [
       "array(['SCA CIP', 'SCA CIP RESOA', 'DIIT - RESOA', 'DOE- RESOA',\n",
       "       'SCA Furniture & Equi', 'Trust For Public Lan', 'SCA Capacity',\n",
       "       'DOE - Skilled Trades', 'SCA IEH', 'DOE - Lead Paint', 'PRE-K',\n",
       "       'DIIT - PBX Telephone', 'DIIT - Project Conne',\n",
       "       'Fast Track Projects', 'DCAS/NYPA', 'SCA Lease Site Impro',\n",
       "       'SCA Emergency Lighti', 'RCT CIP', 'SCA Emergency Respon',\n",
       "       'DOE Managed PREK'], dtype=object)"
      ]
     },
     "execution_count": 25,
     "metadata": {},
     "output_type": "execute_result"
    }
   ],
   "source": [
    "raw_data[\"project_type\"].unique()"
   ]
  },
  {
   "cell_type": "code",
   "execution_count": null,
   "id": "f3cc9a79-6e04-4f0e-8971-d196f2a47a3d",
   "metadata": {},
   "outputs": [],
   "source": [
    "# Trasnforming into categories"
   ]
  }
 ],
 "metadata": {
  "kernelspec": {
   "display_name": "Python 3 (ipykernel)",
   "language": "python",
   "name": "python3"
  },
  "language_info": {
   "codemirror_mode": {
    "name": "ipython",
    "version": 3
   },
   "file_extension": ".py",
   "mimetype": "text/x-python",
   "name": "python",
   "nbconvert_exporter": "python",
   "pygments_lexer": "ipython3",
   "version": "3.11.5"
  }
 },
 "nbformat": 4,
 "nbformat_minor": 5
}
