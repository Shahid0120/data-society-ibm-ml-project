{
 "cells": [
  {
   "cell_type": "markdown",
   "id": "32f5d44b-bb6d-457f-8690-3f91723aba38",
   "metadata": {},
   "source": [
    "# Removing All columns with missing data\n",
    "We find we remove all columns with missing data or wrong data times, but for all money related values we require a regression learning model to predict "
   ]
  },
  {
   "cell_type": "code",
   "execution_count": 25,
   "id": "f86e2cdb-7c84-4695-ae99-3a20c57e48fa",
   "metadata": {},
   "outputs": [
    {
     "name": "stdout",
     "output_type": "stream",
     "text": [
      "<class 'pandas.core.frame.DataFrame'>\n",
      "RangeIndex: 8185 entries, 0 to 8184\n",
      "Data columns (total 16 columns):\n",
      " #   Column                                                      Non-Null Count  Dtype  \n",
      "---  ------                                                      --------------  -----  \n",
      " 0   Unnamed: 0                                                  8185 non-null   int64  \n",
      " 1   project_geographic_district                                 8185 non-null   int64  \n",
      " 2   project_building_identifier                                 8185 non-null   object \n",
      " 3   project_school_name                                         8185 non-null   object \n",
      " 4   project_type                                                8185 non-null   object \n",
      " 5   project_description                                         8185 non-null   object \n",
      " 6   project_phase_name                                          8184 non-null   object \n",
      " 7   project_status_name                                         8185 non-null   object \n",
      " 8   project_phase_actual_start_date                             8185 non-null   object \n",
      " 9   project_phase_planned_end_date                              8185 non-null   object \n",
      " 10  project_phase_actual_end_date                               6027 non-null   object \n",
      " 11  project_budget_amount                                       8185 non-null   object \n",
      " 12  final_estimate_of_actual_costs_through_end_of_phase_amount  8181 non-null   float64\n",
      " 13  total_phase_actual_spending_amount                          8185 non-null   float64\n",
      " 14  dsf_number_s                                                8185 non-null   object \n",
      " 15  failure                                                     8185 non-null   bool   \n",
      "dtypes: bool(1), float64(2), int64(2), object(11)\n",
      "memory usage: 967.3+ KB\n"
     ]
    },
    {
     "data": {
      "text/plain": [
       "(8185, 16)"
      ]
     },
     "execution_count": 25,
     "metadata": {},
     "output_type": "execute_result"
    }
   ],
   "source": [
    "import pandas as pd\n",
    "import numpy as np \n",
    "df = pd.read_csv(\"https://datasocibmproject.s3.ap-southeast-2.amazonaws.com/structured_data/capital_project_schedules_and_budgets_1.csv\")\n",
    "df.info()\n",
    "df.columns\n",
    "rows_drop = []\n",
    "np.shape(df)"
   ]
  },
  {
   "cell_type": "code",
   "execution_count": 64,
   "id": "2771cdc1-e61d-489c-8591-5595947fcf5a",
   "metadata": {},
   "outputs": [],
   "source": [
    "# Checking if it worked\n",
    "# not rebust since mistake arnt only inform pd.isna(value) or value == '' or value is None\n",
    "import numpy as np \n",
    "import json  \n",
    "wrong_missing_dictionary = {}\n",
    "# Iterate through DataFrame columns find wrong values and drop\n",
    "for column in df:\n",
    "    wrong_missing_dictionary[column] = ''\n",
    "    wrong_missing_dictionary[column + '_index'] = []\n",
    "    # Iterate through indices of the column\n",
    "    for row, value in enumerate(df[column]):\n",
    "         if pd.isna(value) or value == '' or value is None:\n",
    "            # Append the missing/wrong value to the corresponding dictionary entry\n",
    "            if pd.isna(value):\n",
    "                value_str = 'NaN'\n",
    "            elif value == '':\n",
    "                value_str = 'Empty String'\n",
    "            else:\n",
    "                value_str = 'None'\n",
    "            \n",
    "            wrong_missing_dictionary[column] += value_str + ', '\n",
    "            wrong_missing_dictionary[column + '_index'].append(row + 1)\n",
    "                \n",
    "\n",
    "missing_values_dictionary = findWrongValue(df)\n",
    "#print(json.dumps(missing_values_dictionary, indent=4))\n",
    "\n"
   ]
  },
  {
   "cell_type": "code",
   "execution_count": 3,
   "id": "01823f0a-ac6e-47bd-a253-4b7014020fc1",
   "metadata": {},
   "outputs": [
    {
     "data": {
      "text/plain": [
       "[]"
      ]
     },
     "execution_count": 3,
     "metadata": {},
     "output_type": "execute_result"
    }
   ],
   "source": [
    "def uniqueEntriesFeature(df, col):\n",
    "    min_entry = df[col][1]\n",
    "    max_entry = 0\n",
    "    unique_dictionary = {} \n",
    "        \n",
    "    min_key = f\"{col}_max\"\n",
    "    max_key = f\"{col}_max\"\n",
    "    unique_key = f\"{col}_unique\"\n",
    "    \n",
    "    unique_dictionary[min_key] = min_entry\n",
    "    unique_dictionary[max_key] = max_entry\n",
    "    unique_dictionary[unique_key] = []\n",
    "    \n",
    "       \n",
    "    for row, entry in enumerate(df[col]):\n",
    "        try:\n",
    "            # Convert entry to float (assuming numeric data)\n",
    "            value = int(entry) \n",
    "            if value < min_entry:\n",
    "                unique_dictionary[min_key] = value\n",
    "                min_entry = value\n",
    "            elif value > max_entry:\n",
    "                unique_dictionary[max_key] = value\n",
    "                max_entry = value\n",
    "                \n",
    "        except ValueError:\n",
    "            # Handle non-numeric entries (strings, NaNs, etc.)\n",
    "            if entry not in unique_dictionary[unique_key]:\n",
    "                unique_dictionary[unique_key].append(entry)\n",
    "\n",
    "    return unique_dictionary\n",
    "\n",
    "unique_dict = uniqueEntriesFeature(df, 'project_school_name')\n",
    "#print(unique_dict)\n",
    "row_to_drop = [] \n",
    "values = unique_dict['project_school_name_unique']\n",
    "for row, value in enumerate(values):\n",
    "    if value.lower().strip() in ['/','//','nan'] or pd.isnull(value) or pd.isna(value):\n",
    "        row_to_drop.append(row)\n",
    "\n",
    "row_to_drop"
   ]
  },
  {
   "cell_type": "code",
   "execution_count": 79,
   "id": "da013b89-b908-4858-8b5a-ceb35b078ba5",
   "metadata": {},
   "outputs": [
    {
     "data": {
      "text/plain": [
       "[]"
      ]
     },
     "execution_count": 79,
     "metadata": {},
     "output_type": "execute_result"
    }
   ],
   "source": [
    "# project type drop \n",
    "row_to_drop_project_type = [] \n",
    "values = df['project_type']\n",
    "for row, value in enumerate(values):\n",
    "    if value.lower().strip() in ['/','//','nan'] or pd.isnull(value) or pd.isna(value):\n",
    "        row_to_drop.append(row)\n",
    "\n",
    "row_to_drop_project_type"
   ]
  },
  {
   "cell_type": "code",
   "execution_count": 77,
   "id": "2180fac0-e9f2-413b-a7a9-3419c19b9faf",
   "metadata": {},
   "outputs": [
    {
     "data": {
      "text/plain": [
       "[]"
      ]
     },
     "execution_count": 77,
     "metadata": {},
     "output_type": "execute_result"
    }
   ],
   "source": [
    "row_to_drop_project_decription = [] \n",
    "values = df['project_description']\n",
    "for row, value in enumerate(values):\n",
    "    if value.lower().strip() in ['/','//','nan'] or pd.isnull(value) or pd.isna(value):\n",
    "        row_to_drop_project_decription.append(row)\n",
    "\n",
    "row_to_drop_project_decription"
   ]
  },
  {
   "cell_type": "code",
   "execution_count": 86,
   "id": "cc6e20cc-9ac1-4f40-8d45-a2e381412a9d",
   "metadata": {},
   "outputs": [
    {
     "data": {
      "text/plain": [
       "[]"
      ]
     },
     "execution_count": 86,
     "metadata": {},
     "output_type": "execute_result"
    }
   ],
   "source": [
    "row_to_drop_project_phase_name = [] \n",
    "values = df['project_phase_name']\n",
    "for row, value in enumerate(values):\n",
    "    try:\n",
    "        numerical_value  = float(value)\n",
    "    except ValueError:\n",
    "        if value.lower().strip() in ['/','//','nan'] or pd.isnull(value) or pd.isna(value):\n",
    "            row_to_drop_project_decription.append(row)\n",
    "\n",
    "row_to_drop_project_phase_name"
   ]
  },
  {
   "cell_type": "code",
   "execution_count": 87,
   "id": "95e9c4bb-81f6-4860-853c-9a2e264be90a",
   "metadata": {},
   "outputs": [
    {
     "data": {
      "text/plain": [
       "[]"
      ]
     },
     "execution_count": 87,
     "metadata": {},
     "output_type": "execute_result"
    }
   ],
   "source": [
    "# project_status_name\n",
    "row_to_drop_project_status_name = [] \n",
    "values = df['project_status_name']\n",
    "for row, value in enumerate(values):\n",
    "    try:\n",
    "        numerical_value  = float(value)\n",
    "    except ValueError:\n",
    "        if value.lower().strip() in ['/','//','nan'] or pd.isnull(value) or pd.isna(value):\n",
    "            row_to_drop_project_decription.append(row)\n",
    "\n",
    "row_to_drop_project_status_name"
   ]
  },
  {
   "cell_type": "code",
   "execution_count": 91,
   "id": "d4dd58f8-3495-4347-be4f-124f5e6d2aa8",
   "metadata": {},
   "outputs": [
    {
     "data": {
      "text/plain": [
       "[]"
      ]
     },
     "execution_count": 91,
     "metadata": {},
     "output_type": "execute_result"
    }
   ],
   "source": [
    "row_to_drop = []\n",
    "for col in df.columns:\n",
    "    value = df[col]\n",
    "    for row, value in enumerate(values):\n",
    "        try:\n",
    "            numerical_value  = float(value)\n",
    "        except ValueError:\n",
    "            if value.lower().strip() in ['/','//','nan'] or pd.isnull(value) or pd.isna(value):\n",
    "                row_to_drop.append(row)\n",
    "\n",
    "row_to_drop_project_decription"
   ]
  },
  {
   "cell_type": "markdown",
   "id": "8610b831-96aa-4c5f-a44d-6848f81cb426",
   "metadata": {},
   "source": [
    "# Droping all - unknown labels from project_building_identifier    \n",
    "{'XAAF': 1479,\n",
    " 'XADJ': 1480,\n",
    " 'XADO': 1481,\n",
    " 'XADY': 1482,\n",
    " 'XAEE': 1483,\n",
    " 'XABI': 2606,\n",
    " 'XAEO': 2607,\n",
    " 'XAFB': 2608,\n",
    " 'XAUJ': 2609,\n",
    " 'QALP': 5504,\n",
    " 'QAPM': 5505,\n",
    " 'QMAD': 6089,\n",
    " 'KBZT': 6221,\n",
    " 'KAKB': 6912} \n",
    "We are going to assume these data poitns are wrong and remove them since they can change our distribution of model "
   ]
  },
  {
   "cell_type": "code",
   "execution_count": 34,
   "id": "ada35a2f-eeb6-4c8d-b943-9312b696cfb9",
   "metadata": {},
   "outputs": [
    {
     "name": "stdout",
     "output_type": "stream",
     "text": [
      "[1479, 1480, 1481, 1482, 1483, 2606, 2607, 2608, 2609, 5504, 5505, 6089, 6221, 6912]\n",
      "[1479, 1480, 1481, 1482, 1483, 2606, 2607, 2608, 2609, 5504, 5505, 6089, 6221, 6912]\n",
      "(8185, 16)\n"
     ]
    }
   ],
   "source": [
    "dict_wrong_inputs = {'XAAF': 1479, 'XADJ': 1480, 'XADO': 1481, 'XADY': 1482, 'XAEE': 1483, 'XABI': 2606, 'XAEO': 2607, 'XAFB': 2608, 'XAUJ': 2609, 'QALP': 5504, 'QAPM': 5505, 'QMAD': 6089, 'KBZT': 6221, 'KAKB': 6912}\n",
    "arr_wrong_project_building_identifier_values = []\n",
    "for value in dict_wrong_inputs.values():\n",
    "    arr_wrong_project_building_identifier_values.append(value)\n",
    "\n",
    "print(list(arr_wrong_project_building_identifier_values))\n",
    "row_to_drop.clear()\n",
    "row_to_drop += arr_wrong_project_building_identifier_values\n",
    "print(row_to_drop)\n",
    "print(np.shape(df))"
   ]
  },
  {
   "cell_type": "markdown",
   "id": "d35bf21e-77d4-4cd1-95f5-0672a211e70c",
   "metadata": {},
   "source": [
    "# Project_phase_name\n",
    "Contains ['Construction' 'CM, F&E' 'Scope' 'Design' 'Purch & Install' 'F&E'\n",
    " 'CM,Art,F&E' 'CM' nan]\n",
    "We remove all null and nan values"
   ]
  },
  {
   "cell_type": "code",
   "execution_count": 36,
   "id": "7821f7c3-4a4b-4e3c-bd07-90f4bd49b777",
   "metadata": {},
   "outputs": [
    {
     "name": "stdout",
     "output_type": "stream",
     "text": [
      "[6992]\n",
      "[1479, 1480, 1481, 1482, 1483, 2606, 2607, 2608, 2609, 5504, 5505, 6089, 6221, 6912, 6992]\n",
      "(8185, 16)\n"
     ]
    }
   ],
   "source": [
    "arr_isnull_isnan_project_phase_name = []\n",
    "for index,value in enumerate(df['project_phase_name']):\n",
    "    if pd.isna(value) == True or pd.isnull(value) == True:\n",
    "        arr_isnull_isnan_project_phase_name.append(index)\n",
    "\n",
    "print(arr_isnull_isnan_project_phase_name)\n",
    "row_to_drop += arr_isnull_isnan_project_phase_name\n",
    "print(row_to_drop)\n",
    "print(np.shape(df))"
   ]
  },
  {
   "cell_type": "markdown",
   "id": "46f7b69e-00a0-4d8a-8beb-d1f330ec1337",
   "metadata": {},
   "source": [
    "# Dates actual vs planned \n",
    "from data profiling we find We find thats project_phase_actual_start_date $\\leq$ project\\_phase\\_planned\\_end\\_date is all logical, but project\\_phase\\_actual\\_start\\_date  $\\leq$ project\\_phase\\_planned\\_end\\_date  {'10/13/2006': ['10/10/2006', 6046], '10/21/2016': ['10/15/2016', 6470]}. \\\\ logically wrong so we remove"
   ]
  },
  {
   "cell_type": "code",
   "execution_count": 21,
   "id": "345453f2-1520-4f2e-ab23-c6efff0d7ed3",
   "metadata": {},
   "outputs": [
    {
     "data": {
      "text/plain": [
       "Unnamed: 0                                                                                  6483\n",
       "project_geographic_district                                                                   28\n",
       "project_building_identifier                                                                 Q144\n",
       "project_school_name                                                            P.S. 144 - QUEENS\n",
       "project_type                                                                             SCA CIP\n",
       "project_description                                           ELECTRICAL WORK FOR A/C INITIATIVE\n",
       "project_phase_name                                                                        Design\n",
       "project_status_name                                                                  In-Progress\n",
       "project_phase_actual_start_date                                                       11/29/2017\n",
       "project_phase_planned_end_date                                                        05/02/2018\n",
       "project_phase_actual_end_date                                                                NaN\n",
       "project_budget_amount                                                                      13509\n",
       "final_estimate_of_actual_costs_through_end_of_phase_amount                               13509.0\n",
       "total_phase_actual_spending_amount                                                           0.0\n",
       "dsf_number_s                                                                     DSF: 0000888775\n",
       "failure                                                                                     True\n",
       "Name: 6483, dtype: object"
      ]
     },
     "execution_count": 21,
     "metadata": {},
     "output_type": "execute_result"
    }
   ],
   "source": [
    "df.iloc[6470, :]"
   ]
  },
  {
   "cell_type": "code",
   "execution_count": 24,
   "id": "21faf0ee-5360-4cb4-9557-94d5432ba7e3",
   "metadata": {},
   "outputs": [
    {
     "name": "stdout",
     "output_type": "stream",
     "text": [
      "[False]\n",
      "[False]\n",
      "[False]\n",
      "[False]\n",
      "[ True False]\n",
      "[ True False]\n"
     ]
    }
   ],
   "source": [
    "# planned start data nan and null \n",
    "print(df['project_phase_actual_start_date'].isna().unique())\n",
    "print(df['project_phase_actual_start_date'].isnull().unique())\n",
    "# actual end data planned and nan\n",
    "print(df['project_phase_planned_end_date'].isna().unique())\n",
    "print(df['project_phase_planned_end_date'].isnull().unique())\n",
    "# planned end data null and nan\n",
    "print(df['project_phase_actual_end_date'].isna().unique())\n",
    "print(df['project_phase_actual_end_date'].isnull().unique())"
   ]
  },
  {
   "cell_type": "code",
   "execution_count": 44,
   "id": "af9b8bac-b9a7-40c2-94be-fdac58701ef6",
   "metadata": {},
   "outputs": [
    {
     "name": "stdout",
     "output_type": "stream",
     "text": [
      "[6992, 6992, 6992, 6992, 6992, 6992, 6992]\n",
      "[1479, 1480, 1481, 1482, 1483, 2606, 2607, 2608, 2609, 5504, 5505, 6089, 6221, 6912, 6992, 6992]\n",
      "(8185, 16)\n"
     ]
    }
   ],
   "source": [
    "# From existing Null dates and Nan project_phase_actual_end_date we drop since in this instance\n",
    "arr_isnull_isnan_project_phase_actual_end_date = []\n",
    "for index,value in enumerate(df['project_phase_name']):\n",
    "    if pd.isna(value) == True or pd.isnull(value) == True:\n",
    "        arr_isnull_isnan_project_phase_name.append(index)\n",
    "        \n",
    "print(arr_isnull_isnan_project_phase_name)\n",
    "row_to_drop.append(6992)\n",
    "print(row_to_drop)\n",
    "print(np.shape(df))"
   ]
  },
  {
   "cell_type": "code",
   "execution_count": 46,
   "id": "670f4d29-ab6d-4237-b4f7-e5cdf6de603c",
   "metadata": {},
   "outputs": [
    {
     "name": "stdout",
     "output_type": "stream",
     "text": [
      "[1479, 1480, 1481, 1482, 1483, 2606, 2607, 2608, 2609, 5504, 5505, 6089, 6221, 6912, 6992, 6992, 6046, 6470]\n",
      "(8185, 16)\n"
     ]
    }
   ],
   "source": [
    "row_to_drop.append(6046)\n",
    "row_to_drop.append(6470)\n",
    "print(row_to_drop)\n",
    "print(np.shape(df))"
   ]
  },
  {
   "cell_type": "markdown",
   "id": "e2ad61fb-9396-4c94-b6b8-d261e52f549d",
   "metadata": {},
   "source": [
    "# project_budget_amount, final_estimate_of_actual_costs_through_end_of_phase_amount, total_phase_actual_spending_amount  \n",
    "for final_estimate_of_actual_costs_through_end_of_phase_amount we find {267: nan, 2180: nan, 2886: nan, 8049: nan} and for project_budget_amount unique values {'0': 717, 'PNB': 49, 'DOES': 339, 'IEH': 652, 'DOEL': 113, 'DIIX': 28, 'DIIT': 195, 'FTK': 61, 'EMER': 4} that are 0 or constain characters"
   ]
  },
  {
   "cell_type": "code",
   "execution_count": 52,
   "id": "68f8cfdc-54e3-44f5-8624-0266abe685e6",
   "metadata": {},
   "outputs": [
    {
     "data": {
      "text/plain": [
       "[1479,\n",
       " 1480,\n",
       " 1481,\n",
       " 1482,\n",
       " 1483,\n",
       " 2606,\n",
       " 2607,\n",
       " 2608,\n",
       " 2609,\n",
       " 5504,\n",
       " 5505,\n",
       " 6089,\n",
       " 6221,\n",
       " 6912,\n",
       " 6992,\n",
       " 6046,\n",
       " 6470]"
      ]
     },
     "execution_count": 52,
     "metadata": {},
     "output_type": "execute_result"
    }
   ],
   "source": [
    "row_to_drop\n",
    "row_to_drop_no_duplicates = list(dict.fromkeys(row_to_drop))\n",
    "row_to_drop_no_duplicates"
   ]
  },
  {
   "cell_type": "code",
   "execution_count": 55,
   "id": "404c30c0-d251-42b7-bf53-75699254c9b6",
   "metadata": {},
   "outputs": [
    {
     "data": {
      "text/plain": [
       "(8168, 16)"
      ]
     },
     "execution_count": 55,
     "metadata": {},
     "output_type": "execute_result"
    }
   ],
   "source": [
    "# Export new data with no null or nan or wrong dates for regression\n",
    "\n",
    "df_cleaned = df.drop(labels=row_to_drop_no_duplicates, axis=0)\n",
    "\n",
    "np.shape(df_cleaned)"
   ]
  },
  {
   "cell_type": "code",
   "execution_count": 56,
   "id": "21cff76a-cc77-4f27-8f92-708060a60f6f",
   "metadata": {},
   "outputs": [
    {
     "data": {
      "text/plain": [
       "(8185, 16)"
      ]
     },
     "execution_count": 56,
     "metadata": {},
     "output_type": "execute_result"
    }
   ],
   "source": [
    "np.shape(df)"
   ]
  },
  {
   "cell_type": "code",
   "execution_count": 57,
   "id": "e8a838e8-ea70-4e34-8362-5c064a16738c",
   "metadata": {},
   "outputs": [
    {
     "data": {
      "text/plain": [
       "17"
      ]
     },
     "execution_count": 57,
     "metadata": {},
     "output_type": "execute_result"
    }
   ],
   "source": [
    "len(row_to_drop_no_duplicates)"
   ]
  },
  {
   "cell_type": "code",
   "execution_count": 61,
   "id": "7a8bc2e8-64ec-4e54-918c-10a36ee4717f",
   "metadata": {},
   "outputs": [],
   "source": [
    "# export\n",
    "df_cleaned.to_csv('/Users/shahid/Github/data-society-ibm-ml-project/data/interim/data_removed_missing_values_null_na_illogical_date.csv', index=False)"
   ]
  }
 ],
 "metadata": {
  "kernelspec": {
   "display_name": "Python 3 (ipykernel)",
   "language": "python",
   "name": "python3"
  },
  "language_info": {
   "codemirror_mode": {
    "name": "ipython",
    "version": 3
   },
   "file_extension": ".py",
   "mimetype": "text/x-python",
   "name": "python",
   "nbconvert_exporter": "python",
   "pygments_lexer": "ipython3",
   "version": "3.11.5"
  }
 },
 "nbformat": 4,
 "nbformat_minor": 5
}
