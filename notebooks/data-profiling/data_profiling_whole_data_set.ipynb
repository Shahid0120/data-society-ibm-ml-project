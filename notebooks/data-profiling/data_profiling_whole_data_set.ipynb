{
 "cells": [
  {
   "cell_type": "code",
   "execution_count": 4,
   "id": "5cf846f3-27a7-4124-a514-9ab22a2d27f9",
   "metadata": {},
   "outputs": [],
   "source": [
    "# Identify Data types of number of data in each column "
   ]
  },
  {
   "cell_type": "code",
   "execution_count": 39,
   "id": "2466ffdd-2a60-455b-8735-e551d9c2f67f",
   "metadata": {},
   "outputs": [
    {
     "name": "stdout",
     "output_type": "stream",
     "text": [
      "<class 'pandas.core.frame.DataFrame'>\n",
      "RangeIndex: 8185 entries, 0 to 8184\n",
      "Data columns (total 16 columns):\n",
      " #   Column                                                      Non-Null Count  Dtype  \n",
      "---  ------                                                      --------------  -----  \n",
      " 0   Unnamed: 0                                                  8185 non-null   int64  \n",
      " 1   project_geographic_district                                 8185 non-null   int64  \n",
      " 2   project_building_identifier                                 8185 non-null   object \n",
      " 3   project_school_name                                         8185 non-null   object \n",
      " 4   project_type                                                8185 non-null   object \n",
      " 5   project_description                                         8185 non-null   object \n",
      " 6   project_phase_name                                          8184 non-null   object \n",
      " 7   project_status_name                                         8185 non-null   object \n",
      " 8   project_phase_actual_start_date                             8185 non-null   object \n",
      " 9   project_phase_planned_end_date                              8185 non-null   object \n",
      " 10  project_phase_actual_end_date                               6027 non-null   object \n",
      " 11  project_budget_amount                                       8185 non-null   object \n",
      " 12  final_estimate_of_actual_costs_through_end_of_phase_amount  8181 non-null   float64\n",
      " 13  total_phase_actual_spending_amount                          8185 non-null   float64\n",
      " 14  dsf_number_s                                                8185 non-null   object \n",
      " 15  failure                                                     8185 non-null   bool   \n",
      "dtypes: bool(1), float64(2), int64(2), object(11)\n",
      "memory usage: 967.3+ KB\n"
     ]
    }
   ],
   "source": [
    "import pandas as pd\n",
    "\n",
    "df = pd.read_csv(\"https://datasocibmproject.s3.ap-southeast-2.amazonaws.com/structured_data/capital_project_schedules_and_budgets_1.csv\")\n",
    "df.info()"
   ]
  },
  {
   "cell_type": "code",
   "execution_count": 6,
   "id": "7ab57bbd-6819-467f-8627-f7e25ab220ed",
   "metadata": {},
   "outputs": [
    {
     "data": {
      "text/plain": [
       "1"
      ]
     },
     "execution_count": 6,
     "metadata": {},
     "output_type": "execute_result"
    }
   ],
   "source": [
    "df['project_geographic_district'].min()"
   ]
  },
  {
   "cell_type": "code",
   "execution_count": 7,
   "id": "7af86715-dd0e-459b-8a70-4740199b0121",
   "metadata": {},
   "outputs": [
    {
     "data": {
      "text/plain": [
       "1"
      ]
     },
     "execution_count": 7,
     "metadata": {},
     "output_type": "execute_result"
    }
   ],
   "source": [
    "df['project_geographic_district'].min()"
   ]
  },
  {
   "cell_type": "code",
   "execution_count": 8,
   "id": "a15f1228-f2af-4b91-a7f0-4b7ba1b9101e",
   "metadata": {},
   "outputs": [
    {
     "data": {
      "text/plain": [
       "0    In-Progress\n",
       "1    In-Progress\n",
       "2       Complete\n",
       "3    In-Progress\n",
       "4            PNS\n",
       "Name: project_status_name, dtype: object"
      ]
     },
     "execution_count": 8,
     "metadata": {},
     "output_type": "execute_result"
    }
   ],
   "source": [
    "df['project_status_name'].head()"
   ]
  },
  {
   "cell_type": "code",
   "execution_count": 9,
   "id": "6282615f-3bc1-4c52-b8c4-19df42092b3c",
   "metadata": {},
   "outputs": [],
   "source": [
    "for index in df.duplicated():\n",
    "    if index == True:\n",
    "        print(index) "
   ]
  },
  {
   "cell_type": "markdown",
   "id": "deab99d1-0ad1-4fcf-9318-8740f14e0beb",
   "metadata": {},
   "source": [
    "# Checking Wrong data inputs for date"
   ]
  },
  {
   "cell_type": "code",
   "execution_count": 10,
   "id": "62469a7d-b5dd-450b-9b44-7c7f8c2a4ff9",
   "metadata": {},
   "outputs": [],
   "source": [
    "def checkDataFormatting(df, col):\n",
    "    wrong_format_count = 0\n",
    "    unique_value_wrong_format_dict = {}\n",
    "\n",
    "    for date in df[col]:\n",
    "        #correct = False\n",
    "        correct_format = checkLenghtdata(date)\n",
    "        if correct_format == False:\n",
    "            # input directionary \n",
    "            unique_value_wrong_format_dict = uniqueWronglyFormatedDatas(unique_value_wrong_format_dict, date)\n",
    "            wrong_format_count += 1\n",
    "            \n",
    "    return wrong_format_count, unique_value_wrong_format_dict\n",
    "\n",
    "def checkLenghtdata(data):\n",
    "    correct_format = False\n",
    "    # convert string\n",
    "    data = str(data)\n",
    "    # CHeck if data is in form XX/XX/XXXX or PNS \n",
    "    if len(data) == 10 or data == 'PNS' or data == 'F&E' or data == 'CM':\n",
    "        correct_format = True\n",
    "        \n",
    "        \n",
    "    return correct_format\n",
    "\n",
    "def uniqueWronglyFormatedDatas(dictionary, date):\n",
    "    if date in dictionary:\n",
    "        # add new key and dictionary \n",
    "        dictionary[date] += 1 \n",
    "    else:\n",
    "        dictionary[date] = 1\n",
    "    return dictionary\n",
    "\n"
   ]
  },
  {
   "cell_type": "code",
   "execution_count": 11,
   "id": "fb7847ca-cb40-4dbd-86a9-2c12844d2780",
   "metadata": {},
   "outputs": [
    {
     "name": "stdout",
     "output_type": "stream",
     "text": [
      "For project_phase_actual_start_date there is total wrongly formated 1 and unique wrong values includes {'FTK': 1} \n",
      "\n",
      "For project_phase_actual_end_date there is total wrongly formated 2159 and unique wrong values includes {nan: 2158, 'FTK': 1} \n",
      "\n",
      "For project_phase_planned_end_date there is total wrongly formated 1324 and unique wrong values includes {'DOES': 318, 'IEH': 652, 'DOEL': 113, 'DOER': 170, 'FTK': 61, 'EMER': 4, 'DOEP': 1, '/  /': 5} \n",
      "\n"
     ]
    }
   ],
   "source": [
    "# is the date consistent? in the form XX / XX / XXXX\n",
    "\n",
    "wrong_actual_date_count_start = 0\n",
    "wrong_actual_unique_dict_start = {}\n",
    "\n",
    "wrong_actual_date_count_end = 0\n",
    "wrong_actual_unique_dict_end = {}\n",
    "\n",
    "wrong_planned_date_count_end = 0\n",
    "wrong_planned_unique_dict_end = {}\n",
    "\n",
    "\n",
    "wrong_actual_date_count_start, wrong_actual_unique_dict_start = checkDataFormatting(df, 'project_phase_actual_start_date')\n",
    "wrong_actual_date_count_end, wrong_actual_unique_dict_end = checkDataFormatting(df,'project_phase_actual_end_date')\n",
    "wrong_planned_date_count_end, wrong_planned_unique_dict_end = checkDataFormatting(df, 'project_phase_planned_end_date')\n",
    "\n",
    "print(f\"For project_phase_actual_start_date there is total wrongly formated {wrong_actual_date_count_start} and unique wrong values includes {wrong_actual_unique_dict_start} \\n\")\n",
    "print(f\"For project_phase_actual_end_date there is total wrongly formated {wrong_actual_date_count_end} and unique wrong values includes {wrong_actual_unique_dict_end} \\n\")\n",
    "print(f\"For project_phase_planned_end_date there is total wrongly formated {wrong_planned_date_count_end} and unique wrong values includes {wrong_planned_unique_dict_end} \\n\")\n",
    "\n"
   ]
  },
  {
   "cell_type": "code",
   "execution_count": 12,
   "id": "4fc3b9f1-0e62-4aed-b9e6-4258523c0ea0",
   "metadata": {},
   "outputs": [
    {
     "data": {
      "text/plain": [
       "<generator object DataFrame.items at 0x12701e3e0>"
      ]
     },
     "execution_count": 12,
     "metadata": {},
     "output_type": "execute_result"
    }
   ],
   "source": [
    "# Checking which index have null or Nan values\n",
    "df.items()"
   ]
  },
  {
   "cell_type": "code",
   "execution_count": 13,
   "id": "6796a4a6-7bf0-49b6-b7c5-cf60acde8fa1",
   "metadata": {},
   "outputs": [
    {
     "name": "stdout",
     "output_type": "stream",
     "text": [
      "{\n",
      "    \"Unnamed: 0\": \"\",\n",
      "    \"project_geographic_district\": \"\",\n",
      "    \"project_building_identifier\": \"\",\n",
      "    \"project_school_name\": \"\",\n",
      "    \"project_type\": \"\",\n",
      "    \"project_description\": \"\",\n",
      "    \"project_phase_name\": [\n",
      "        NaN,\n",
      "        false\n",
      "    ],\n",
      "    \"project_status_name\": \"\",\n",
      "    \"project_phase_actual_start_date\": \"\",\n",
      "    \"project_phase_planned_end_date\": \"\",\n",
      "    \"project_phase_actual_end_date\": [\n",
      "        NaN,\n",
      "        false\n",
      "    ],\n",
      "    \"project_budget_amount\": \"\",\n",
      "    \"final_estimate_of_actual_costs_through_end_of_phase_amount\": [\n",
      "        NaN,\n",
      "        false\n",
      "    ],\n",
      "    \"total_phase_actual_spending_amount\": \"\",\n",
      "    \"dsf_number_s\": \"\",\n",
      "    \"failure\": \"\"\n",
      "}\n"
     ]
    }
   ],
   "source": [
    "import numpy as np \n",
    "import json  \n",
    "wrong_missing_dictionary = {}\n",
    "# Iterate through DataFrame columns\n",
    "for column in df:\n",
    "    wrong_missing_dictionary[column] = ''\n",
    "    # Iterate through indices of the column\n",
    "    for value in df[column]:\n",
    "        # Checks for NaN, empty string (''), or None\n",
    "        if pd.isna(value) or value == '' or value == None:\n",
    "            wrong_missing_dictionary[column] = [value, index]\n",
    "\n",
    "print(json.dumps(wrong_missing_dictionary, indent=4))"
   ]
  },
  {
   "cell_type": "markdown",
   "id": "0049ae20-9998-4398-a2f4-5705826f8288",
   "metadata": {},
   "source": [
    "# Finding Duplicates"
   ]
  },
  {
   "cell_type": "code",
   "execution_count": 14,
   "id": "e459b0a2-87f6-4872-9d4f-8dcf1458b0c2",
   "metadata": {},
   "outputs": [
    {
     "name": "stdout",
     "output_type": "stream",
     "text": [
      "8185\n",
      "[]\n"
     ]
    }
   ],
   "source": [
    "\n",
    "duplicated_indices = []\n",
    "print(len(df))\n",
    "index = 0\n",
    "for value in df.duplicated():\n",
    "    if  value == True:\n",
    "        duplicated_indices.append(index)\n",
    "    index += 1\n",
    "\n",
    "\n",
    "print(duplicated_indices)"
   ]
  },
  {
   "cell_type": "markdown",
   "id": "3f925050-1096-48d3-8686-bb11b9bdd563",
   "metadata": {},
   "source": [
    "# Finding Range of Unique Values in each column"
   ]
  },
  {
   "cell_type": "code",
   "execution_count": 5,
   "id": "6c93eabe-4cdd-4415-b771-1945bfaee25b",
   "metadata": {},
   "outputs": [
    {
     "name": "stdout",
     "output_type": "stream",
     "text": [
      "{'project_geographic_district_max': 32, 'project_geographic_district_unique': []}\n"
     ]
    }
   ],
   "source": [
    "# Goals is to find all unique entries in each column \n",
    "# if it is str then puts all numbers eahc unique entry into string\n",
    "# if is it int() then finds range (min and max) else if does not int then puts idnex and row\n",
    "def uniqueEntriesFeature(df, col):\n",
    "    min_entry = df[col][1]\n",
    "    max_entry = 0\n",
    "    unique_dictionary = {} \n",
    "        \n",
    "    min_key = f\"{col}_max\"\n",
    "    max_key = f\"{col}_max\"\n",
    "    unique_key = f\"{col}_unique\"\n",
    "    \n",
    "    unique_dictionary[min_key] = min_entry\n",
    "    unique_dictionary[max_key] = max_entry\n",
    "    unique_dictionary[unique_key] = []\n",
    "    \n",
    "       \n",
    "    for row, entry in enumerate(df[col]):\n",
    "        try:\n",
    "            # Convert entry to float (assuming numeric data)\n",
    "            value = int(entry) \n",
    "            if value < min_entry:\n",
    "                unique_dictionary[min_key] = value\n",
    "                min_entry = value\n",
    "            elif value > max_entry:\n",
    "                unique_dictionary[max_key] = value\n",
    "                max_entry = value\n",
    "                \n",
    "        except ValueError:\n",
    "            # Handle non-numeric entries (strings, NaNs, etc.)\n",
    "            if entry not in unique_dictionary[unique_key]:\n",
    "                unique_dictionary[unique_key].append(entry)\n",
    "\n",
    "    return unique_dictionary\n",
    "    \n",
    "                \n",
    "\n",
    "unique_dict = uniqueEntriesFeature(df, 'project_geographic_district')\n",
    "print(unique_dict)\n"
   ]
  },
  {
   "cell_type": "code",
   "execution_count": 6,
   "id": "c37e1505-5685-4171-b801-84d0cdb5125a",
   "metadata": {},
   "outputs": [
    {
     "name": "stdout",
     "output_type": "stream",
     "text": [
      "{'project_geographic_district_max': 32, 'project_geographic_district_unique': []}\n"
     ]
    },
    {
     "data": {
      "text/plain": [
       "array([10,  2, 11,  3, 25,  4, 15,  5, 16,  6, 12, 13,  7,  8, 14,  9,  1,\n",
       "       18, 30, 24, 19, 31, 20, 26, 21, 27, 22, 28, 23, 29, 17, 32])"
      ]
     },
     "execution_count": 6,
     "metadata": {},
     "output_type": "execute_result"
    }
   ],
   "source": [
    "unique_dict = uniqueEntriesFeature(df, 'project_geographic_district')\n",
    "print(unique_dict)\n",
    "df['project_geographic_district'].unique()"
   ]
  },
  {
   "cell_type": "code",
   "execution_count": 34,
   "id": "2c861f73-7bce-443d-bfa6-f40a81328525",
   "metadata": {},
   "outputs": [
    {
     "data": {
      "text/plain": [
       "array(['DSF: 0000821031, 0000822210', 'DSF: 0000823560',\n",
       "       'DSF: 0000844624', ...,\n",
       "       'DSF: 0000822169, 0000843221, 0000843222, 0000843223',\n",
       "       'DSF: 0000851654', 'DSF: 0000776207'], dtype=object)"
      ]
     },
     "execution_count": 34,
     "metadata": {},
     "output_type": "execute_result"
    }
   ],
   "source": [
    "df['dsf_number_s'].unique()"
   ]
  },
  {
   "cell_type": "code",
   "execution_count": 56,
   "id": "69eccdb4-024a-4726-9331-f3553813e01e",
   "metadata": {},
   "outputs": [
    {
     "data": {
      "text/plain": [
       "[]"
      ]
     },
     "execution_count": 56,
     "metadata": {},
     "output_type": "execute_result"
    }
   ],
   "source": [
    "unique_dict = uniqueEntriesFeature(df, 'project_school_name')\n",
    "#print(unique_dict)\n",
    "row_to_drop = [] \n",
    "values = unique_dict['project_school_name_unique']\n",
    "for row, value in enumerate(values):\n",
    "    if value.lower().strip() in ['/','//','nan'] or pd.isnull(value) or pd.isna(value):\n",
    "        row_to_drop.append(row)\n",
    "\n",
    "\n",
    "row_to_drop"
   ]
  },
  {
   "cell_type": "code",
   "execution_count": 46,
   "id": "961eccc6-11d6-488a-ab9b-5b443479887b",
   "metadata": {},
   "outputs": [
    {
     "name": "stdout",
     "output_type": "stream",
     "text": [
      "{'XAAF': 1479, 'XADJ': 1480, 'XADO': 1481, 'XADY': 1482, 'XAEE': 1483, 'XABI': 2606, 'XAEO': 2607, 'XAFB': 2608, 'XAUJ': 2609, 'QALP': 5504, 'QAPM': 5505, 'QMAD': 6089, 'KBZT': 6221, 'KAKB': 6912}\n"
     ]
    }
   ],
   "source": [
    "# find if there is problematric values for project_building_identifier\n",
    "import re \n",
    "# Method 1\n",
    "arr_project_building_identifier = df['project_building_identifier'].unique()\n",
    "wrong_input_arr_project_building_identifier = {}\n",
    "for index, building_identifer in enumerate(df['project_building_identifier']):\n",
    "    withoutletter_building_identifer = building_identifer[1:len(building_identifer)]\n",
    "    try:\n",
    "        withoutletter_building_identifer = building_identifer[1:len(building_identifer)]\n",
    "        withoutletter_building_identifer = int(withoutletter_building_identifer)\n",
    "        if building_identifer[0].lower().isalpha() == False or len(building_identifer) != 4 :\n",
    "            wrong_input_arr_project_building_identifier[building_identifer] = index\n",
    "    except ValueError as e:\n",
    "        wrong_input_arr_project_building_identifier[building_identifer] = index\n",
    "\n",
    "#wrong_input_arr_project_building_identifier\n",
    "\n",
    "# Method 2 - using regualar expressions to find porblematic values\n",
    "expected_pattern = r'^[A-Z\\. ][0-9][0-9][0-9]$'\n",
    "wrong_input_arr_project_building_identifier_method_two = {}\n",
    "for index, value in enumerate(df['project_building_identifier']):\n",
    "    value.strip()\n",
    "    if not re.match(expected_pattern, value):\n",
    "        wrong_input_arr_project_building_identifier_method_two[value] = index\n",
    "        \n",
    "print(wrong_input_arr_project_building_identifier_method_two)"
   ]
  },
  {
   "cell_type": "code",
   "execution_count": null,
   "id": "9e772b93-a925-4c25-91b7-216fe6d24b7d",
   "metadata": {},
   "outputs": [],
   "source": []
  },
  {
   "cell_type": "code",
   "execution_count": 36,
   "id": "38d66663-f394-4f32-8cfb-9ae2d38581bf",
   "metadata": {},
   "outputs": [
    {
     "name": "stdout",
     "output_type": "stream",
     "text": [
      "Unnamed: 0                                                                      1480\n",
      "project_geographic_district                                                       11\n",
      "project_building_identifier                                                     XADJ\n",
      "project_school_name                                                     X000 - BRONX\n",
      "project_type                                                    SCA Furniture & Equi\n",
      "project_description                                           FY16 RESO A TECHNOLOGY\n",
      "project_phase_name                                                               F&E\n",
      "project_status_name                                                      In-Progress\n",
      "project_phase_actual_start_date                                           01/09/2017\n",
      "project_phase_planned_end_date                                                   F&E\n",
      "project_phase_actual_end_date                                                    NaN\n",
      "project_budget_amount                                                          55000\n",
      "final_estimate_of_actual_costs_through_end_of_phase_amount                   55000.0\n",
      "total_phase_actual_spending_amount                                           54136.0\n",
      "dsf_number_s                                                         DSF: 0000843721\n",
      "failure                                                                        False\n",
      "Name: 1480, dtype: object\n",
      "(8184, 16)\n",
      "(8184, 16)\n"
     ]
    }
   ],
   "source": [
    "import numpy as np\n",
    "np.shape(df)\n",
    "print(df.iloc[1479,:])\n",
    "print(np.shape(df))\n",
    "df.drop(labels=[1480], axis=1,inplace=True)\n",
    "print(np.shape(df))"
   ]
  },
  {
   "cell_type": "code",
   "execution_count": null,
   "id": "90b591ff-25f5-4028-ba77-d0bfbccbb7d9",
   "metadata": {},
   "outputs": [],
   "source": []
  },
  {
   "cell_type": "code",
   "execution_count": null,
   "id": "79afdf55-a1bc-44c3-ac55-f6ef82e78e18",
   "metadata": {},
   "outputs": [],
   "source": [
    "expected_pattern = r'^[A-Z\\. ]+\\s*-\\s*[A-Z]+$'"
   ]
  },
  {
   "cell_type": "code",
   "execution_count": 37,
   "id": "0b35f9f9-be5d-4d50-9b64-2991ce604a82",
   "metadata": {},
   "outputs": [
    {
     "data": {
      "text/plain": [
       "array(['I.S. 254 - BRONX', 'P.S. 279 - BRONX', 'I.S. 228 - BRONX', ...,\n",
       "       'ACAD. FOR ENVIRON. LDRSHP - K', 'P.S. 677 - BROOKLYN',\n",
       "       'ALC - BROOKLYN CHOICES'], dtype=object)"
      ]
     },
     "execution_count": 37,
     "metadata": {},
     "output_type": "execute_result"
    }
   ],
   "source": [
    "df['project_school_name'].unique()"
   ]
  },
  {
   "cell_type": "markdown",
   "id": "ba59ebb3-8f2f-4d00-a8b5-3974dcbd5427",
   "metadata": {},
   "source": [
    "# project_school_name\n",
    "Since project description takes on mainly two forms I.S. 254 - BRONX or ALC - BROOKLYN CHOICES  or ACAD. FOR ENVIRON. LDRSHP - K\n",
    "our main goals is to checks if the expression includes 2 or more characters and a dash\n",
    "From checks all seem fine "
   ]
  },
  {
   "cell_type": "code",
   "execution_count": 47,
   "id": "900e27e1-c4db-4817-b46d-391b2adecc38",
   "metadata": {},
   "outputs": [
    {
     "data": {
      "text/plain": [
       "array(['I.S. 254 - BRONX', 'P.S. 279 - BRONX', 'I.S. 228 - BRONX', ...,\n",
       "       'ACAD. FOR ENVIRON. LDRSHP - K', 'P.S. 677 - BROOKLYN',\n",
       "       'ALC - BROOKLYN CHOICES'], dtype=object)"
      ]
     },
     "execution_count": 47,
     "metadata": {},
     "output_type": "execute_result"
    }
   ],
   "source": [
    "df['project_school_name'].unique()"
   ]
  },
  {
   "cell_type": "code",
   "execution_count": 48,
   "id": "41908964-c84a-4c0c-b144-ba99b016a93e",
   "metadata": {},
   "outputs": [
    {
     "name": "stdout",
     "output_type": "stream",
     "text": [
      "{'HS FOR ENVIRONMENTAL STUDIES': 154, 'OLD MABLE DEAN BACON VOC HS AX': 131, 'HARVEST COLLEGIATE HIGH SCHOOL': 161, 'HS FOR LEADERSHIP & PUBLIC SER': 165, 'CITY KNOLL MIDDLE SCHOOL': 168, 'LYFE': 213, 'M.S. M247 DUAL LANGUAGE MIDDLE': 228, 'WADLEIGH SCNDRY SCHL FOR PERMG': 244, 'WADLEIGH SECONDARY SCHOOL FOR': 370, 'HIGH SCHOOL FOR ENERGY AND TEC': 256, 'SCHOOL OF DIPLOMACY': 363, 'THE RIVERSIDE SCHOOL FOR MAKER': 477, 'URBAN ASSEMBLY SCHOOL': 1110, 'PELHAM ACADEMY OF ACADEMICS AN': 525, 'COLLEGIATE INST FOR MATH & SCI': 583, 'CORNERSTONE ACADEMY FOR SOCIAL': 567, 'YOUNG VOICES ACADEMY OF THE BR': 572, 'ACADEMY FOR SCHOLARSHIP AND EN': 576, 'PELHAM HIGH SCHOOL FOR LANGUAG': 584, 'HS OF COMPUTERS & TECHNOLOGY': 595, 'INNOVATION DIPLOMA PLUS': 644, 'THE URBAN ASSEMBLY SCHOOL': 1223, 'THE GLOBAL LEARNING COLLABORAT': 645, 'MAXINE GREEN HIGH SCHOOL': 670, 'COAL. SCHOOL FOR SOCIAL CHANGE': 723, 'SUMMIT ACADEMY CHARTER SCHOOL': 740, 'RED HOOK NEIGHBORHOOD SCHOOL': 742, 'P.S. 032 SAMUEL MILLS SPROLE': 748, 'P.S. 058 THE CARROLL': 758, 'P.S. 124 SILAS B. DUTCHER': 795, 'SUCCESS ACADEMY CHARTER SCHOOL': 6062, 'P.S. 38 ROBERTO CLEMENTE': 934, 'MANHTN CT FOR MATH & SCI. HS': 954, 'PARK EAST ALT HS': 958, \"YOUNG WOMEN'S LEADERSHIP SCHOO\": 2881, 'EDUCATIONAL CAMPUS @ 500 19TH': 1011, 'DIGITAL ARTS AND CINEMA TECHNO': 1013, 'SUNSET PARK AVENUES ELEMENTARY': 1028, 'COY L. COX SCHOOL': 1038, 'SECONDARY SCHOOL FOR JOURNALIS': 1049, 'MILLENIUM BROOKLYN HIGH SCHOOL': 1051, 'BROOKLYN FRONTIERS HIGH SCHOOL': 1055, 'BROOKLYN HS OF THE ARTS': 1094, 'EAGLE ACADEMY FOR YOUNG MEN': 1162, 'HARLEM VILLAGE ACADEMY CHARTER': 1208, \"TEACHER'S COLLEGE COMMUNITY SC\": 1352, 'URBAN ASMBLY SCHL GLOBAL COMM': 1222, 'P.S. @ 4525 8TH AVENUE': 1240, 'BOYS AND GIRLS YABC': 1248, 'COBBLE  HILL SCHL OF AMER STDS': 1252, 'NEW VOICES SCHOOL OF ACADEMIC': 1271, 'FREDERICK DOUGLASS ACADEMY IV': 1308, \"CTR CONT'D ED (UNWED MOTHERS)\": 1347, 'P.S. 5': 1367, 'DOS PUENTES ELEMENTARY SCHOOL': 1465, 'BRONX HS FOR THE VISUAL ARTS': 1478, 'FAIRMONT NEIGHBORHOOD SCHOOL': 1511, 'P.S. 066 SCHOOL OF HIGHER EXPE': 1532, 'I.S. 191': 1575, 'HAMILTON GRANGE MIDDLE SCHOOL': 1676, 'HS FOR HEALTH CAREER & SCIENCE': 1839, 'HS FOR LAW AND PUBLIC SERVICE': 1700, 'GEORGE WASHINGTON H.S.': 1712, 'URBAN SCHOLARS COMMUNITY SCHOO': 1740, 'ARTURO A. SCHOMBERG SATELLITE': 1746, 'THE METROPOLITAN SOUNDVIEW HIG': 1761, 'JAMES MONROE HS': 1762, 'JAMES MONROE H.S.': 1763, 'P.S. 011 PURVIS J. BEHAN': 1788, 'HIGH SCHOOL FOR MATHEMATICS, S': 1856, 'GREGORIO LUPERON PREP. SCHOOL': 1870, 'THE LABORATORY SCHL OF FINANCE': 1941, 'CONCOURSE VILLAGE ELEMENTARY S': 1951, 'BKLYN HS FOR LEADERSHIP & COMM': 1978, 'BROOKLYN COMMUNITY ARTS & MEDI': 1980, 'COMMUNITY PARTNERSHIP CHARTER': 1995, 'GEORGE WESTINGHOUSE VOC. HS': 2058, 'CITY POLYTECHNIC HIGH SCHOOL O': 2059, 'STEM CENTER @ CLINTON STREET': 2071, 'ADULT AND CONTINUING EDUCATION': 2075, 'P.S. 161 PONCE DE LEON': 2080, 'THE URBAN ASSEMBLY BRONX ACADE': 2089, 'JILL CHAIFETZ TRANSFER HIGH SC': 2096, 'MOTT HAVEN COMMUNITY HIGH SCHO': 2130, 'BRONX LEADERSHIP ACADEMY II HS': 2132, 'LONGWOOD PREPARATORY ACADEMY': 2158, 'HOLCOMBE L. RUCKER SCHOOLOF CO': 2154, 'THE LONGWOOD ACADEMY FOR DISCO': 2180, 'SCIENCE SKILLS CENTER HIGH SCH': 2209, 'BENJAMIN BANNEKER ACAD. (HS LV': 2232, 'I.S. 49': 2282, 'BEGINNING WITH CHLDRN CHRTR II': 2309, 'BEGINNING WITH CHILDREN CHARTE': 2315, 'BRONX DELTA SCHOOL': 2415, 'LEHMAN HS': 2425, 'THE ETHICAL COMMUNITY CHARTER': 2514, 'HS OF ENTERPRISE, BUS. & TECH.': 2533, 'WILLIAMSBURG HS FOR ARCH & DES': 2549, 'WILLIAMSBURG PREPARATORY SCHOO': 2548, 'MAGNET SCHOOL OF MATH, SCIENCE': 2563, 'BRONX COMMUNITY HIGH SCHOOL': 2576, 'SCHOOL FOR TOURISM AND HSPTLTY': 2599, 'SCHL FOR TURSM AND HOSPITALITY': 2603, 'SCHOOL FOR TOURISM AND HOSPITA': 2604, 'GREEK AMERICAN INSTITUTE': 2606, 'BRONX CNTR FOR SCIENCE & MATH': 2618, 'MOTT HALL CHARTER SCHOOL': 3101, 'NEW EXPLORATIONS INTO SCIENCE,': 2709, 'EAST SIDE COMMUNITY SCHOOL': 2726, 'P.S. 140 NATHAN STRAUS': 2775, 'CASCADES CTR FOR TCHING & LNG': 2799, 'SATELLITE AT FORSYTHE': 2797, 'SHERIDAN ACADEMY FOR YOUNG LEA': 2841, \"YOUNG WOMEN'S LEADERSHIP SCHL\": 2874, 'FREDERICK DOUGLASS ACADEMY III': 2917, 'BRONX EARLY COLLEGE ACADEMY': 2924, 'THE NEW AMERICAN ACADEMY AT RO': 2941, 'I.S. 17 MANHATTAN ACADEMY TECH': 2950, 'J.H.S. 47 (SCH FOR THE DEAF)': 2977, 'P.S. 138': 3020, 'EMMA LAZARUS HIGH SCHOOL': 3042, 'MORRIS COLLAB HS TECH & HUMAN': 3077, 'BRONX HIGH SCHOOL FOR MEDICAL': 3093, 'P.S./I.S. 217 ROOSEVELT ISLAND': 3253, 'HUMANITIES PREPARATORY ACAD': 3266, 'LIBERTY HS ACADEMY FOR NEWCOME': 3284, 'WASHINGTON IRVING H.S.': 3288, 'P.S. 205 FIORELLO LAGUARDIA': 3417, 'UNION SQUARE ACADEMY FOR HEALT': 3431, 'HEALTH PROF & HUMAN  SVCS': 3451, 'HS FOR HEALTH PROF & HUMAN SER': 3453, 'JULIA RICHMAN H.S.': 3463, 'THE URBAN ASSEMBLY SCHOOL FOR': 3474, 'PARK WEST HS (ECF)': 3478, 'URBAN ASSEMBLY SCHOOL OF DESIG': 3487, 'MANHATTAN ACADEMY OF ARTS AND': 3516, 'HS OF GRAPHIC COMM. ARTS (VOC)': 3526, 'STEPHEN T. MATHER BUILDING ART': 3536, 'THE BUSINESS OF SPORTS SCHOOL': 3535, 'LIFE SCIENCE SECONDARY SCHOOL': 3545, 'EAST FLATBUSH COMMUNITY RESCH': 7443, 'ARTS & MEDIA PREPARATORY ACADE': 3549, 'BROOKLYN SCIENCE AND ENGINEERI': 3586, 'MIDDLE SCHOOL FOR ART & PHILOS': 3605, 'I.S. 252': 3603, 'THE SCIENCE AND MEDICINE MIDDL': 3646, 'KURT HAHN EXPED LEARNING SCH': 3654, 'THE 30TH AVENUE SCHOOL': 7277, 'P.S. 171 PETER G. VAN ALST': 3739, 'EAST ELMHURST COMMUNITY SCHOOL': 3772, 'EAST NEW YORK ELEMENTARY SCHOO': 3845, 'BROOKLYN GARDENS ELEMENTARY SC': 3889, 'SCHOOL OF THE FUTURE BROOKLYN': 3890, 'INVICTUS PREPARATORY CHARTER S': 3914, 'LONG ISLAND CITY H.S.': 3938, 'FRANK SINATRA SCL OF THE ARTS': 3946, 'ACADEMY OF AMERICAN STUDIES': 3950, 'YOUNG W. LEADERSHIP SCL ASTORI': 3963, 'BACCALAUREATE SCL FOR GLOBAL E': 3966, 'DOE BUREAU OF SUPPLIES': 3970, 'P.S. 004 MAURICE WOLLIN': 4030, 'I.S. 73': 4057, 'LIBERTY AVENUE MIDDLE SCHOOL': 4193, 'I.S. 452': 4211, 'LYFE PROGRAM': 7231, 'PERFORMING ARTS AND TECH. HS': 4265, 'HIGH SCHOOL FOR CIVIL RIGHTS': 4269, 'ELM TREE ELEMENTARY SCHOOL': 4288, 'GROVER CLEVELAND HIGH SCHOOL': 4343, 'HIGH SCHOOL OF APPLIED COMMUNI': 4371, 'PAN AMERICAN INTERNATIONAL HS': 4379, 'P.S./I.S. @ 3269 ATLANTIC AVE': 4421, 'THE FLUSHING INTERNATIONAL HS': 4641, 'J.H.S. 189 DANIEL CARTER BEARD': 4638, 'P.S. 179 KENSINGTON': 4660, 'URBN ASSY SCHL CRIM JUSTICE': 4713, 'J.H.S. 194 WILLIAM CARR': 4790, 'P.S. 209 CLEARVIEW GARDENS': 4800, 'QUEENS HIGH SCHOOL FOR LANGUAG': 4873, 'VERITAS ACADEMY': 4875, 'TELECOM ARTS & TECHNOLOGY H.S.': 4902, 'I.S. 096 SETH LOW': 4989, 'P.S. 97': 5010, 'P.S./ IS 178 HOLLISWOOD': 5122, 'P.S. 128 BENSONHURST': 5168, 'THE BROOKLYN SCHOOL OF INQUIRY': 5260, 'THE ACADAMY OF TALENTED SCHOLA': 5382, 'J.H.S. 216 GEORGE J. RYAN': 5281, 'BENJAMIN N. CARDOZO HIGH SCHOO': 5320, 'BUSINESS TECHNOLOGY EARLY COLL': 5375, 'QNS HS OF TEACH., LIB. ARTS&SC': 5376, 'LIFE ACADEMY H.S. FILM & MUSIC': 5442, 'KINGSBOROUGH EARLY COLLEGE SCH': 5443, 'MURROW H.S.': 5467, 'M.S. 053 BRIAN PICCOLO': 5548, 'P.S. 100': 5587, 'J.H.S. 078 ROY H. MANN': 5661, 'P.S. 119 AMERSFORT': 5680, 'P.S. 223': 5812, 'ROCKAWAY COLLEGIATE HIGH SCHL': 5997, 'ROCKAWAY PARK HIGH SCHOOL FOR': 5999, 'CHANNEL VIEW SCHOOL FOR RESEAR': 6002, 'ROCKAWAY COLLEGIATE HIGH SCHOO': 6001, 'CHANNEL VIEW SCL FOR RESEARCH': 6003, 'FREDERICK DOUGLASS ACAD VI HS': 6008, 'FAR ROCKAWAY HS': 6031, 'FREDERICK DOUGLASS ACADEMY VI': 6033, 'QNS HS FOR INF. RESEARCH & TEC': 6034, 'HS FOR CONST.TRADES,ENGG.,& AR': 6061, 'PENINSULA PREPARATORY ACADEMY': 6089, 'MIDWOOD H.S.': 6147, 'JAMES MADISON HS': 6155, 'ORIGINS HIGH SCHOOL': 6184, 'PROFESSIONAL PATHWAYS HS': 6180, 'PROFESSIONAL PATHWAYS HIGH SCH': 6183, 'J.H.S. 008 RICHARD S. GROSSLEY': 6238, \"JAMAICA CHILDREN'S SCHOOL\": 6260, 'P.S. 48': 6268, 'BROOKLYN COLLEGIATE: A COLLEGE': 6364, 'BROOKLYN LANDMARK ELEMENTARY': 6377, 'BROOKLYN ENVIRONMENTAL EXPLORA': 6375, 'FREDERICK DOUGLAS ACAD VII HS': 6423, 'RIVERDALE AVENUE MIDDLE SCHOOL': 6438, 'EAGLE ACAD YOUNG MEN AT OCEAN': 6453, 'J.H.S. 142': 6476, 'FOREST HILLS HS': 6581, 'JAMAICA HS': 6587, 'QUEENS COLLEGIATE SCHOOL': 6591, 'CHRISTOPHER AVENUE COMMUNITY S': 6613, 'P.S. 007 LOUIS F. SIMEONE': 6655, 'HILLSIDE ACADEMY FOR ARTS AND': 6722, 'JAMAICA GATEWAY TO THE SCIENCE': 6720, 'HILLCREST H.S.': 6732, \"YOUNG WOMENS' LEADERSHIP SCHL\": 6760, 'QUEENS METROPOLITAN HIGH SCHL': 6768, 'QUEENS METROPOLITAN HIGH SCHOO': 6776, 'METROPOLITAN EXPEDITIONARY LEA': 6773, 'QUEENS GATEWAY TO HEALTH SCIEN': 6781, 'GATEWAY HEALTH & SCIENCES H.S.': 6780, 'P.S. 035 NATHANIEL WOODHULL': 6798, 'P.S. 038 ROSEDALE': 6828, 'GOTHAM PROFESSIONAL ARTS ACAD': 6840, 'BROOKLYN EMERGING LEADERS ACAD': 6849, \"YOUNG SCHOLARS' ACADEMY FOR DI\": 6868, 'BEDFORD STUYVESANT COLLEGIATE': 6912, 'NEW BRIDGES': 6956, 'QUEENS UNITED MIDDLE SCHOOL': 7047, 'I.S. 192 THE LINDEN': 7066, 'COMMUNITY VOICES MIDDLE SCHOOL': 7078, 'PROSPECT HEIGHTS H.S.': 7179, 'SCIENCE TECHNOLOGY & RESEARCH': 7201, 'G. WASHINGTON CARVER HS FOR SC': 7236, 'INSTITUTE FOR HEALTH PROFESSIO': 7241, 'JACKSON HS': 7245, 'MATH, SCI., RESEARCH & TECH. H': 7250, 'HS FOR YOUTH & COMMUNITY DEV.': 7325, 'ERASMUS YOUNG ADULT BORO CENTE': 7330, 'MEDGAR EVERS COLLEGE PREPARATO': 7338, 'MEDGAR EVERS COLLEGE PREP': 7339, 'PATHWAYS IN TECHNOLOGY': 7352, 'PATHWAYS IN TECHNOLOGY EARLY C': 7356, 'BROWNSVILLE ACADEMY HIGH SCHOO': 7362, 'P.S. 114': 7381, 'P.S. 114 RYDER ELEMENTARY': 7390, 'FORT HILL COLLABORATIVE ELEMEN': 7511, 'CSI HS FOR INTL STUDIES': 7665, 'G MCCOWN EXPEDITIONARY LRNG SC': 7691, 'CSI HS FOR INTERNATIONAL STUDI': 7692, 'NAPLES STREET ELEMENTARY SCHL': 7723, 'NAPLES STREET ELEMENTARY SCHOO': 7730, 'P.S. 56 THE LOUIS DESARIO SCHO': 7782, 'P.S. @ 357 TARGEE STREET': 7828, 'D75 REPLACEMENT @ 15 FAIRFIELD': 7867, 'CURTIS H.S.': 7915, 'CURTIS HIGH SCHOOL ANNEX': 7921, 'TOTTENVILLE H.S.': 7932, 'SUSAN E. WAGNER HS': 7953, 'RALPH R. MCKEE CAREER AND TECH': 7972, 'P.S. 106 EDWARD EVERETT HALE': 8031, 'MATH, ENGINEERING, AND SCIENCE': 8104, 'BROOKLYN SCHOOL FOR MATH AND R': 8141, 'BRKLYN SCHL FOR SOCIAL JUSTICE': 8145, 'BKLYN SCHL FOR SOCIAL JUSTICE': 8168, 'THE BROOKLYN SCHOOL FOR SOCIAL': 8169}\n"
     ]
    }
   ],
   "source": [
    "dic_wrong_project_school_name = {}\n",
    "reg_project_school_name = r'^(?=.*[A-Za-z].*[A-Za-z].*[A-Za-z])(?=.*-.*$).*$'\n",
    "for index,value in enumerate(df['project_school_name']):\n",
    "    if not re.match(reg_project_school_name, value):\n",
    "        dic_wrong_project_school_name[value] = index\n",
    "print(dic_wrong_project_school_name)"
   ]
  },
  {
   "cell_type": "markdown",
   "id": "a20e3817-c135-4313-86a8-c67b173a75a0",
   "metadata": {},
   "source": [
    "df['project_type'].unique()"
   ]
  },
  {
   "cell_type": "markdown",
   "id": "e7ec347b-60b3-4633-9000-e946c1a4ee08",
   "metadata": {},
   "source": [
    "# Project_type"
   ]
  },
  {
   "cell_type": "code",
   "execution_count": 52,
   "id": "93133afe-c35a-4d81-b6f4-c9885c9f7c41",
   "metadata": {},
   "outputs": [
    {
     "data": {
      "text/plain": [
       "array(['SCA CIP', 'SCA CIP RESOA', 'DIIT - RESOA', 'DOE- RESOA',\n",
       "       'SCA Furniture & Equi', 'Trust For Public Lan', 'SCA Capacity',\n",
       "       'DOE - Skilled Trades', 'SCA IEH', 'DOE - Lead Paint', 'PRE-K',\n",
       "       'DIIT - PBX Telephone', 'DIIT - Project Conne',\n",
       "       'Fast Track Projects', 'DCAS/NYPA', 'SCA Lease Site Impro',\n",
       "       'SCA Emergency Lighti', 'RCT CIP', 'SCA Emergency Respon',\n",
       "       'DOE Managed PREK'], dtype=object)"
      ]
     },
     "execution_count": 52,
     "metadata": {},
     "output_type": "execute_result"
    }
   ],
   "source": [
    "df['project_type'].unique()"
   ]
  },
  {
   "cell_type": "code",
   "execution_count": 56,
   "id": "b90f8326-d4b6-4413-a29d-23976d722f2a",
   "metadata": {},
   "outputs": [
    {
     "name": "stdout",
     "output_type": "stream",
     "text": [
      "{}\n"
     ]
    }
   ],
   "source": [
    "arr_na = df['project_type'].isna()\n",
    "arr_project_type_na = {}\n",
    "for index, value in enumerate(arr_na):\n",
    "    if value == True:\n",
    "        arr_project_type_na[index] = value\n",
    "\n",
    "print(arr_project_type_na)"
   ]
  },
  {
   "cell_type": "code",
   "execution_count": 58,
   "id": "ffff80aa-22c8-47c7-930b-4931dcc1a858",
   "metadata": {},
   "outputs": [
    {
     "data": {
      "text/plain": [
       "array([False])"
      ]
     },
     "execution_count": 58,
     "metadata": {},
     "output_type": "execute_result"
    }
   ],
   "source": [
    "arr_null_project_type = df['project_type'].isnull()\n",
    "arr_null_project_type.unique()"
   ]
  },
  {
   "cell_type": "code",
   "execution_count": 64,
   "id": "428d3f2e-dfce-4a20-9893-be6f70cf5f52",
   "metadata": {},
   "outputs": [
    {
     "name": "stdout",
     "output_type": "stream",
     "text": [
      "[False]\n",
      "[False]\n"
     ]
    }
   ],
   "source": [
    "# Project description \n",
    "arr_null_description_type = df['project_description'].isnull().unique()\n",
    "arr_na_description_type = df['project_description'].isna().unique()\n",
    "print(arr_null_description_type)\n",
    "print(arr_na_description_type)"
   ]
  },
  {
   "cell_type": "markdown",
   "id": "73bb185e-7398-4e1b-a739-617f1251b3d5",
   "metadata": {},
   "source": [
    "# Project_phase"
   ]
  },
  {
   "cell_type": "markdown",
   "id": "e2cb8603-a122-4e44-82cc-5a1ac605b2e9",
   "metadata": {},
   "source": [
    "# Project Phase"
   ]
  },
  {
   "cell_type": "code",
   "execution_count": 65,
   "id": "ed1dd34a-47cd-4b82-8122-82eea7fd9fe2",
   "metadata": {},
   "outputs": [
    {
     "name": "stdout",
     "output_type": "stream",
     "text": [
      "['Construction' 'CM, F&E' 'Scope' 'Design' 'Purch & Install' 'F&E'\n",
      " 'CM,Art,F&E' 'CM' nan]\n"
     ]
    }
   ],
   "source": [
    "print(df['project_phase_name'].unique())"
   ]
  },
  {
   "cell_type": "markdown",
   "id": "14468454-f5d4-4551-a5ae-a08f9bc82804",
   "metadata": {},
   "source": [
    "# Project_status"
   ]
  },
  {
   "cell_type": "code",
   "execution_count": 66,
   "id": "5a17713c-485c-4e12-9823-5a3b622bd6ee",
   "metadata": {},
   "outputs": [
    {
     "data": {
      "text/plain": [
       "array(['In-Progress', 'Complete', 'PNS'], dtype=object)"
      ]
     },
     "execution_count": 66,
     "metadata": {},
     "output_type": "execute_result"
    }
   ],
   "source": [
    "df['project_status_name'].unique()"
   ]
  },
  {
   "cell_type": "code",
   "execution_count": 67,
   "id": "1037586d-08d5-49a7-a185-cc8e2dc20877",
   "metadata": {},
   "outputs": [
    {
     "data": {
      "text/plain": [
       "Unnamed: 0                                                                                    6470\n",
       "project_geographic_district                                                                     28\n",
       "project_building_identifier                                                                   Q140\n",
       "project_school_name                                                              P.S. 140 - QUEENS\n",
       "project_type                                                                  Trust For Public Lan\n",
       "project_description                                           FY17 RESO A PLAYGROUND REDEVELOPMENT\n",
       "project_phase_name                                                                          Design\n",
       "project_status_name                                                                       Complete\n",
       "project_phase_actual_start_date                                                         10/21/2016\n",
       "project_phase_planned_end_date                                                          10/15/2016\n",
       "project_phase_actual_end_date                                                           08/15/2017\n",
       "project_budget_amount                                                                       210000\n",
       "final_estimate_of_actual_costs_through_end_of_phase_amount                                210000.0\n",
       "total_phase_actual_spending_amount                                                        210000.0\n",
       "dsf_number_s                                                                       DSF: 0000844890\n",
       "failure                                                                                       True\n",
       "Name: 6470, dtype: object"
      ]
     },
     "execution_count": 67,
     "metadata": {},
     "output_type": "execute_result"
    }
   ],
   "source": [
    "df.iloc[6470, :]"
   ]
  }
 ],
 "metadata": {
  "kernelspec": {
   "display_name": "Python 3 (ipykernel)",
   "language": "python",
   "name": "python3"
  },
  "language_info": {
   "codemirror_mode": {
    "name": "ipython",
    "version": 3
   },
   "file_extension": ".py",
   "mimetype": "text/x-python",
   "name": "python",
   "nbconvert_exporter": "python",
   "pygments_lexer": "ipython3",
   "version": "3.11.5"
  }
 },
 "nbformat": 4,
 "nbformat_minor": 5
}
