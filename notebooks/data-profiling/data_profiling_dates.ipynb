{
 "cells": [
  {
   "cell_type": "markdown",
   "id": "df92a981-7b93-46b7-9a64-ef4500346c5f",
   "metadata": {},
   "source": [
    "# Data Profiling for all data features"
   ]
  },
  {
   "cell_type": "code",
   "execution_count": 8,
   "id": "2466ffdd-2a60-455b-8735-e551d9c2f67f",
   "metadata": {},
   "outputs": [
    {
     "name": "stdout",
     "output_type": "stream",
     "text": [
      "<class 'pandas.core.frame.DataFrame'>\n",
      "RangeIndex: 8185 entries, 0 to 8184\n",
      "Data columns (total 16 columns):\n",
      " #   Column                                                      Non-Null Count  Dtype  \n",
      "---  ------                                                      --------------  -----  \n",
      " 0   Unnamed: 0                                                  8185 non-null   int64  \n",
      " 1   project_geographic_district                                 8185 non-null   int64  \n",
      " 2   project_building_identifier                                 8185 non-null   object \n",
      " 3   project_school_name                                         8185 non-null   object \n",
      " 4   project_type                                                8185 non-null   object \n",
      " 5   project_description                                         8185 non-null   object \n",
      " 6   project_phase_name                                          8184 non-null   object \n",
      " 7   project_status_name                                         8185 non-null   object \n",
      " 8   project_phase_actual_start_date                             8185 non-null   object \n",
      " 9   project_phase_planned_end_date                              8185 non-null   object \n",
      " 10  project_phase_actual_end_date                               6027 non-null   object \n",
      " 11  project_budget_amount                                       8185 non-null   object \n",
      " 12  final_estimate_of_actual_costs_through_end_of_phase_amount  8181 non-null   float64\n",
      " 13  total_phase_actual_spending_amount                          8185 non-null   float64\n",
      " 14  dsf_number_s                                                8185 non-null   object \n",
      " 15  failure                                                     8185 non-null   bool   \n",
      "dtypes: bool(1), float64(2), int64(2), object(11)\n",
      "memory usage: 967.3+ KB\n"
     ]
    }
   ],
   "source": [
    "import pandas as pd\n",
    "\n",
    "df = pd.read_csv(\"https://datasocibmproject.s3.ap-southeast-2.amazonaws.com/structured_data/capital_project_schedules_and_budgets_1.csv\")\n",
    "df.info()"
   ]
  },
  {
   "cell_type": "markdown",
   "id": "deab99d1-0ad1-4fcf-9318-8740f14e0beb",
   "metadata": {},
   "source": [
    "# Checking all wrongly formating not in XX/XX/XXXX or PNS or "
   ]
  },
  {
   "cell_type": "code",
   "execution_count": 101,
   "id": "62469a7d-b5dd-450b-9b44-7c7f8c2a4ff9",
   "metadata": {},
   "outputs": [],
   "source": [
    "def checkDataFormatting(df, col):\n",
    "    wrong_format_count = 0\n",
    "    unique_value_wrong_format_dict = {}\n",
    "\n",
    "    for date in df[col]:\n",
    "        correct_format = checkLenghtData(date)\n",
    "        if correct_format == False:\n",
    "            # input directionary \n",
    "            unique_value_wrong_format_dict = uniqueWronglyFormatedDatas(unique_value_wrong_format_dict, date)\n",
    "            wrong_format_count += 1\n",
    "            \n",
    "    return wrong_format_count, unique_value_wrong_format_dict\n",
    "\n",
    "def checkLenghtData(data):\n",
    "    correct_format = False\n",
    "    # convert string\n",
    "    data = str(data)\n",
    "    # XX/XX/XXXX means month/day/year or other acceptable labels \n",
    "    if len(data) == 10 or data == 'PNS' or data == 'F&E' or data == 'CM':\n",
    "        correct_format = True\n",
    "        \n",
    "        \n",
    "    return correct_format\n",
    "\n",
    "def uniqueWronglyFormatedDatas(dictionary, date):\n",
    "    if date in dictionary:\n",
    "        dictionary[date] += 1 \n",
    "    else:\n",
    "        dictionary[date] = 1\n",
    "    return dictionary\n",
    "\n",
    "def "
   ]
  },
  {
   "cell_type": "code",
   "execution_count": 102,
   "id": "fb7847ca-cb40-4dbd-86a9-2c12844d2780",
   "metadata": {},
   "outputs": [
    {
     "name": "stdout",
     "output_type": "stream",
     "text": [
      "For project_phase_actual_start_date there is total wrongly formated 1 and unique wrong values includes {'FTK': 1} \n",
      "\n",
      "For project_phase_actual_end_date there is total wrongly formated 2159 and unique wrong values includes {nan: 2158, 'FTK': 1} \n",
      "\n",
      "For project_phase_planned_end_date there is total wrongly formated 1324 and unique wrong values includes {'DOES': 318, 'IEH': 652, 'DOEL': 113, 'DOER': 170, 'FTK': 61, 'EMER': 4, 'DOEP': 1, '/  /': 5} \n",
      "\n"
     ]
    }
   ],
   "source": [
    "# is the date consistent? in the form XX / XX / XXXX\n",
    "\n",
    "wrong_actual_date_count_start = 0\n",
    "wrong_actual_unique_dict_start = {}\n",
    "\n",
    "wrong_actual_date_count_end = 0\n",
    "wrong_actual_unique_dict_end = {}\n",
    "\n",
    "wrong_planned_date_count_end = 0\n",
    "wrong_planned_unique_dict_end = {}\n",
    "\n",
    "\n",
    "wrong_actual_date_count_start, wrong_actual_unique_dict_start = checkDataFormatting(df, 'project_phase_actual_start_date')\n",
    "wrong_actual_date_count_end, wrong_actual_unique_dict_end = checkDataFormatting(df,'project_phase_actual_end_date')\n",
    "wrong_planned_date_count_end, wrong_planned_unique_dict_end = checkDataFormatting(df, 'project_phase_planned_end_date')\n",
    "\n",
    "print(f\"For project_phase_actual_start_date there is total wrongly formated {wrong_actual_date_count_start} and unique wrong values includes {wrong_actual_unique_dict_start} \\n\")\n",
    "print(f\"For project_phase_actual_end_date there is total wrongly formated {wrong_actual_date_count_end} and unique wrong values includes {wrong_actual_unique_dict_end} \\n\")\n",
    "print(f\"For project_phase_planned_end_date there is total wrongly formated {wrong_planned_date_count_end} and unique wrong values includes {wrong_planned_unique_dict_end} \\n\")\n",
    "\n"
   ]
  }
 ],
 "metadata": {
  "kernelspec": {
   "display_name": "Python 3 (ipykernel)",
   "language": "python",
   "name": "python3"
  },
  "language_info": {
   "codemirror_mode": {
    "name": "ipython",
    "version": 3
   },
   "file_extension": ".py",
   "mimetype": "text/x-python",
   "name": "python",
   "nbconvert_exporter": "python",
   "pygments_lexer": "ipython3",
   "version": "3.11.5"
  }
 },
 "nbformat": 4,
 "nbformat_minor": 5
}
