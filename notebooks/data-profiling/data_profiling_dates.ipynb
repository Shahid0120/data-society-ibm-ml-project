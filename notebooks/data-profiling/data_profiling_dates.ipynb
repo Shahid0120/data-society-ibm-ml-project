{
 "cells": [
  {
   "cell_type": "markdown",
   "id": "df92a981-7b93-46b7-9a64-ef4500346c5f",
   "metadata": {},
   "source": [
    "# Data Profiling for all data features"
   ]
  },
  {
   "cell_type": "code",
   "execution_count": 57,
   "id": "2466ffdd-2a60-455b-8735-e551d9c2f67f",
   "metadata": {},
   "outputs": [
    {
     "name": "stdout",
     "output_type": "stream",
     "text": [
      "<class 'pandas.core.frame.DataFrame'>\n",
      "RangeIndex: 8185 entries, 0 to 8184\n",
      "Data columns (total 16 columns):\n",
      " #   Column                                                      Non-Null Count  Dtype  \n",
      "---  ------                                                      --------------  -----  \n",
      " 0   Unnamed: 0                                                  8185 non-null   int64  \n",
      " 1   project_geographic_district                                 8185 non-null   int64  \n",
      " 2   project_building_identifier                                 8185 non-null   object \n",
      " 3   project_school_name                                         8185 non-null   object \n",
      " 4   project_type                                                8185 non-null   object \n",
      " 5   project_description                                         8185 non-null   object \n",
      " 6   project_phase_name                                          8184 non-null   object \n",
      " 7   project_status_name                                         8185 non-null   object \n",
      " 8   project_phase_actual_start_date                             8185 non-null   object \n",
      " 9   project_phase_planned_end_date                              8185 non-null   object \n",
      " 10  project_phase_actual_end_date                               6027 non-null   object \n",
      " 11  project_budget_amount                                       8185 non-null   object \n",
      " 12  final_estimate_of_actual_costs_through_end_of_phase_amount  8181 non-null   float64\n",
      " 13  total_phase_actual_spending_amount                          8185 non-null   float64\n",
      " 14  dsf_number_s                                                8185 non-null   object \n",
      " 15  failure                                                     8185 non-null   bool   \n",
      "dtypes: bool(1), float64(2), int64(2), object(11)\n",
      "memory usage: 967.3+ KB\n"
     ]
    }
   ],
   "source": [
    "import pandas as pd\n",
    "import numpy as np \n",
    "df = pd.read_csv(\"https://datasocibmproject.s3.ap-southeast-2.amazonaws.com/structured_data/capital_project_schedules_and_budgets_1.csv\")\n",
    "df.info()"
   ]
  },
  {
   "cell_type": "code",
   "execution_count": 25,
   "id": "041440f1-3551-4615-b891-b2bb266b66f2",
   "metadata": {},
   "outputs": [
    {
     "data": {
      "text/plain": [
       "0    07/07/2016\n",
       "1    07/07/2016\n",
       "2    07/27/2017\n",
       "3    08/04/2017\n",
       "4           PNS\n",
       "Name: project_phase_actual_start_date, dtype: object"
      ]
     },
     "execution_count": 25,
     "metadata": {},
     "output_type": "execute_result"
    }
   ],
   "source": [
    "df['project_phase_actual_start_date'].head()"
   ]
  },
  {
   "cell_type": "code",
   "execution_count": 49,
   "id": "6434157d-db0e-4199-b39f-d8738209283e",
   "metadata": {},
   "outputs": [
    {
     "data": {
      "text/plain": [
       "8185"
      ]
     },
     "execution_count": 49,
     "metadata": {},
     "output_type": "execute_result"
    }
   ],
   "source": [
    "len(df['project_phase_actual_end_date'])"
   ]
  },
  {
   "cell_type": "markdown",
   "id": "deab99d1-0ad1-4fcf-9318-8740f14e0beb",
   "metadata": {},
   "source": [
    "# Checking all wrongly formating not in XX/XX/XXXX or PNS or F&E or CM "
   ]
  },
  {
   "cell_type": "code",
   "execution_count": 22,
   "id": "62469a7d-b5dd-450b-9b44-7c7f8c2a4ff9",
   "metadata": {},
   "outputs": [],
   "source": [
    "def checkDateFormatting(df, col1):\n",
    "    \n",
    "    wrong_format_count = 0\n",
    "    unique_value_wrong_format_dict = {}\n",
    "    \n",
    "    # checking format of date for if XX/XX/XXXX or string\n",
    "    data_type = None\n",
    "\n",
    "    \n",
    "    for date in df[col1]:\n",
    "        correct_format = False\n",
    "        correct_format, object_type = checkLenghtDataAndInput(date)\n",
    "        \n",
    "        if correct_format == False:\n",
    "            # input directionary \n",
    "            unique_value_wrong_format_dict = uniqueWronglyFormatedDatas(unique_value_wrong_format_dict, date)\n",
    "            wrong_format_count += 1\n",
    "            \n",
    "    return wrong_format_count, unique_value_wrong_format_dict\n",
    "\n",
    "def checkLenghtDataAndInput(data):\n",
    "    correct_format = False\n",
    "    # convert string\n",
    "    data = str(data) \n",
    "    object_type = ''\n",
    "    # XX/XX/XXXX means month/day/year or other acceptable labels \n",
    "    if len(data) == 10 and data[2] == '/' and data[5] == '/':\n",
    "        correct_format = True \n",
    "        object_type = 'number'\n",
    "    elif data == 'PNS' or data == 'F&E' or data == 'CM':\n",
    "        correct_format = True\n",
    "        object_type = 'string'\n",
    "        \n",
    "        \n",
    "    return correct_format, object_type\n",
    "\n",
    "def uniqueWronglyFormatedDatas(dictionary, date):\n",
    "    if date in dictionary:\n",
    "        dictionary[date] += 1 \n",
    "    else:\n",
    "        dictionary[date] = 1\n",
    "    return dictionary\n"
   ]
  },
  {
   "cell_type": "code",
   "execution_count": 23,
   "id": "fb7847ca-cb40-4dbd-86a9-2c12844d2780",
   "metadata": {},
   "outputs": [
    {
     "name": "stdout",
     "output_type": "stream",
     "text": [
      "For project_phase_actual_start_date there is total wrongly formated 1 and unique wrong values includes {'FTK': 1} \n",
      "\n",
      "For project_phase_actual_end_date there is total wrongly formated 2159 and unique wrong values includes {nan: 2158, 'FTK': 1} \n",
      "\n",
      "For project_phase_planned_end_date there is total wrongly formated 1324 and unique wrong values includes {'DOES': 318, 'IEH': 652, 'DOEL': 113, 'DOER': 170, 'FTK': 61, 'EMER': 4, 'DOEP': 1, '/  /': 5} \n",
      "\n"
     ]
    }
   ],
   "source": [
    "# is the date consistent? in the form XX / XX / XXXX\n",
    "\n",
    "wrong_actual_date_count_start = 0\n",
    "wrong_actual_unique_dict_start = {}\n",
    "\n",
    "wrong_actual_date_count_end = 0\n",
    "wrong_actual_unique_dict_end = {}\n",
    "\n",
    "wrong_planned_date_count_end = 0\n",
    "wrong_planned_unique_dict_end = {}\n",
    "\n",
    "\n",
    "wrong_actual_date_count_start, wrong_actual_unique_dict_start = checkDateFormatting(df, 'project_phase_actual_start_date')\n",
    "wrong_actual_date_count_end, wrong_actual_unique_dict_end = checkDateFormatting(df,'project_phase_actual_end_date')\n",
    "wrong_planned_date_count_end, wrong_planned_unique_dict_end = checkDateFormatting(df, 'project_phase_planned_end_date')\n",
    "\n",
    "print(f\"For project_phase_actual_start_date there is total wrongly formated {wrong_actual_date_count_start} and unique wrong values includes {wrong_actual_unique_dict_start} \\n\")\n",
    "print(f\"For project_phase_actual_end_date there is total wrongly formated {wrong_actual_date_count_end} and unique wrong values includes {wrong_actual_unique_dict_end} \\n\")\n",
    "print(f\"For project_phase_planned_end_date there is total wrongly formated {wrong_planned_date_count_end} and unique wrong values includes {wrong_planned_unique_dict_end} \\n\")\n",
    "\n"
   ]
  },
  {
   "cell_type": "markdown",
   "id": "cb237af6-3d2a-4f7e-9788-1576f18933d2",
   "metadata": {},
   "source": [
    "# Does Correctly Formated dates make logical sense?"
   ]
  },
  {
   "cell_type": "code",
   "execution_count": 72,
   "id": "f289469c-03e6-46db-977a-789ee1afa44b",
   "metadata": {},
   "outputs": [
    {
     "name": "stdout",
     "output_type": "stream",
     "text": [
      "False\n",
      "False\n"
     ]
    }
   ],
   "source": [
    "class DateRangeChecker:\n",
    "    def __init__(self):\n",
    "        pass \n",
    "\n",
    "    def dateRangeChecker(self, data):\n",
    "        # by default\n",
    "        date_boolean = False \n",
    "        \n",
    "        # Call checks for each column \n",
    "        day_boolean = self.daysColumnCheck(data[3:5])\n",
    "        month_boolean = self.monthColumnsCheck(data[0:2])\n",
    "        year_boolean = self.yearColumnsCheck(data[6:11])\n",
    "    \n",
    "        # Check if all ranges correct\n",
    "        if day_boolean == True and month_boolean == True and year_boolean == True:\n",
    "            date_boolean = True \n",
    "    \n",
    "        return date_boolean\n",
    "        \n",
    "    def daysColumnCheck(self, data):\n",
    "        correct_range = False\n",
    "        days_range = np.arange(0, 32)\n",
    "        if int(data) in days_range:\n",
    "            correct_range = True\n",
    "        return correct_range\n",
    "    \n",
    "    def monthColumnsCheck(self, data):\n",
    "        correct_range = False\n",
    "        month_range = np.arange(0, 13)\n",
    "        if int(data) in month_range:\n",
    "            correct_range = True\n",
    "        return correct_range\n",
    "    \n",
    "    def yearColumnsCheck(self, data):\n",
    "        correct_range = False\n",
    "        year_range = np.arange(2000, 2040)\n",
    "        if int(data) in year_range:\n",
    "            correct_range = True\n",
    "        return correct_range\n",
    "\n",
    "\n",
    "\n",
    "class DataLogicChecker:\n",
    "    def __init__(self):\n",
    "        pass\n",
    "        \n",
    "    def dataLogicChecker(self, data_col_one_index, data_col_two_index):\n",
    "        # input : XX/XX/XXXX\n",
    "        data_logic_boolean = False \n",
    "        day_logic_boolean = self.dayLogicChecker(data_col_one_index[3:5], data_col_two_index[3:5])\n",
    "        month_logic_boolean = self.monthLogicChecker(data_col_one_index[0:2], data_col_two_index[0:2])\n",
    "        year_logic_boolean = self.yearLogicChecker(data_col_one_index[6:11], data_col_two_index[6:11])\n",
    "        \n",
    "        # checks if the logic is correct \n",
    "        if (day_logic_boolean and month_logic_boolean and year_logic_boolean ) == True:\n",
    "            data_logic_boolean = True \n",
    "\n",
    "        return data_logic_boolean\n",
    "        \n",
    "    def dayLogicChecker(self, day_col_one, day_col_two):\n",
    "        # Default \n",
    "        day_logic_boolean = False \n",
    "\n",
    "        # convert to string 'XX' to integer\n",
    "        day_col_one = int(day_col_one)\n",
    "        day_col_two = int(day_col_two)\n",
    "        \n",
    "        if day_col_one < day_col_two:\n",
    "            day_logic_boolean = True\n",
    "            \n",
    "        return day_logic_boolean\n",
    "\n",
    "    def monthLogicChecker(self, month_col_one, month_col_two):\n",
    "        month_logic_boolean = False \n",
    "\n",
    "        # Convert to integer \n",
    "        month_col_one = int(month_col_one)\n",
    "        month_col_two = int(month_col_two)\n",
    "\n",
    "        # Check if logic is true\n",
    "        if month_col_one < month_col_two:\n",
    "            month_logic_boolean = True \n",
    "            \n",
    "        return month_logic_boolean \n",
    "\n",
    "    def yearLogicChecker(self, year_col_one, year_col_two):\n",
    "        year_logic_boolean = False\n",
    "\n",
    "        # Convery to year XXXX to integer \n",
    "        year_col_one = int(year_col_one)\n",
    "        year_col_two = int(year_col_two)\n",
    "    \n",
    "        # Check if logic is true\n",
    "        if year_col_one < year_col_two:\n",
    "            year_logic_boolean = True\n",
    "            \n",
    "        return year_logic_boolean \n",
    "\n",
    "\n",
    "# Note this function has order so col1 has to be before col2 in a date sense \n",
    "# This function checks if correct input date, then checks range of date is correct then checks logic\n",
    "def dateLogicSence(df, col1, col2):\n",
    "    # check ranges of day, month and year, hen check logic of both cols1 and cols2 \n",
    "    logic_checker = False\n",
    "    dataRangeChecker = DateRangeChecker()\n",
    "    dataLogicChecker = DataLogicChecker()\n",
    "\n",
    "    # iterates over all index in both col1 and col2 to check ranage and logic \n",
    "    for index in range(len(df)):\n",
    "        count_col_one, object_type_col_one = checkLenghtDataAndInput(df[col1].iloc[index])\n",
    "        count_col_two, object_type_col_two = checkLenghtDataAndInput(df[col2].iloc[index])\n",
    "\n",
    "        # given both columns are in form XX/XX/XXXX \n",
    "        if count_col_one and count_col_two and object_type_col_one == 'number' and object_type_col_two == 'number':\n",
    "            col1_data_range_boolean = dataRangeChecker.dateRangeChecker(df[col1].iloc[index])\n",
    "            col2_data_range_boolean = dataRangeChecker.dateRangeChecker(df[col2].iloc[index])\n",
    "\n",
    "            # after checking date is whichin range\n",
    "            if col1_data_range_boolean == True and col2_data_range_boolean == True:\n",
    "                logic_checker = dataLogicChecker.dataLogicChecker(df[col1].iloc[index], df[col2].iloc[index])\n",
    "                \n",
    "    \n",
    "        return logic_checker\n",
    "        \n",
    "    return logic_checker\n",
    "    \n",
    "# Calling above function and classes\n",
    "logic_checker_actual_start_end_dates = dateLogicSence(df,'project_phase_actual_start_date' , 'project_phase_actual_end_date')\n",
    "logic_checker_actual_start_actual_end_dates = dateLogicSence(df,'project_phase_actual_start_date' , 'project_phase_planned_end_date')\n",
    "\n",
    "print(logic_checker_actual_start_end_dates)\n",
    "print(logic_checker_actual_start_actual_end_dates)\n"
   ]
  }
 ],
 "metadata": {
  "kernelspec": {
   "display_name": "Python 3 (ipykernel)",
   "language": "python",
   "name": "python3"
  },
  "language_info": {
   "codemirror_mode": {
    "name": "ipython",
    "version": 3
   },
   "file_extension": ".py",
   "mimetype": "text/x-python",
   "name": "python",
   "nbconvert_exporter": "python",
   "pygments_lexer": "ipython3",
   "version": "3.11.5"
  }
 },
 "nbformat": 4,
 "nbformat_minor": 5
}
