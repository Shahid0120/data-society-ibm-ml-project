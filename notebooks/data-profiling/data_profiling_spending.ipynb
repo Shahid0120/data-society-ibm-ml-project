{
 "cells": [
  {
   "cell_type": "code",
   "execution_count": null,
   "id": "c20a16ac-f4a1-4f5b-8d31-3dbd5440b563",
   "metadata": {},
   "outputs": [],
   "source": []
  }
 ],
 "metadata": {
  "kernelspec": {
   "display_name": "Python 3 (ipykernel)",
   "language": "python",
   "name": "python3"
  },
  "language_info": {
   "codemirror_mode": {
    "name": "ipython",
    "version": 3
   },
   "file_extension": ".py",
   "mimetype": "text/x-python",
   "name": "python",
   "nbconvert_exporter": "python",
   "pygments_lexer": "ipython3",
   "version": "3.11.5"
  }
 },
 "nbformat": 4,
 "nbformat_minor": 5
}
